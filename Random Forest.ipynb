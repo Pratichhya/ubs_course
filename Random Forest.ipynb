{
  "nbformat": 4,
  "nbformat_minor": 0,
  "metadata": {
    "colab": {
      "name": "Lab2_BagRF_Sharma.ipynb",
      "provenance": [],
      "collapsed_sections": []
    },
    "kernelspec": {
      "display_name": "Python 3 (ipykernel)",
      "language": "python",
      "name": "python3"
    },
    "language_info": {
      "codemirror_mode": {
        "name": "ipython",
        "version": 3
      },
      "file_extension": ".py",
      "mimetype": "text/x-python",
      "name": "python",
      "nbconvert_exporter": "python",
      "pygments_lexer": "ipython3",
      "version": "3.7.4"
    }
  },
  "cells": [
    {
      "cell_type": "markdown",
      "metadata": {
        "id": "7-FqNO_f5LCr"
      },
      "source": [
        "# LAB SESSION 1 - Bagging and Random Forests"
      ]
    },
    {
      "cell_type": "markdown",
      "metadata": {
        "id": "6K-YL-KW5LCw"
      },
      "source": [
        "# Utils"
      ]
    },
    {
      "cell_type": "code",
      "metadata": {
        "id": "syiWG7645LCy"
      },
      "source": [
        "#conda install -c conda-forge scikit-learn, pandas "
      ],
      "execution_count": null,
      "outputs": []
    },
    {
      "cell_type": "code",
      "metadata": {
        "id": "aXw63Lcd5LC0"
      },
      "source": [
        "#conda install seaborn"
      ],
      "execution_count": null,
      "outputs": []
    },
    {
      "cell_type": "markdown",
      "metadata": {
        "id": "YMQ0hXWb5LC1"
      },
      "source": [
        "## Ex 1: comparison between CART, bagging and random forests "
      ]
    },
    {
      "cell_type": "markdown",
      "metadata": {
        "id": "AzayKE1q5LC2"
      },
      "source": [
        "We work with the \"Urban Land Cover\" Machine learning data base (https://archive.ics.uci.edu/ml/datasets/Urban+Land+Cover). There are a test and a train set. These data sets are used for automated mapping of urban land cover (trees, grass, soil, concrete, asphalt, buildings, etc.) in satellite or aerial imagery. 9 types of urban land cover are considered and multi-scale spectral, size, shape, and texture information are use for classification. There are a low number of training samples for each class (14-30) and a high number of classification variables (148). The test set is from a random sampling of the image.\n",
        "\n",
        "Before to start, we: \n",
        " - load the data and look at them (display the dimension and some descriptive statistics) \n",
        " - select the variables that we will use in the exercise, \n"
      ]
    },
    {
      "cell_type": "code",
      "metadata": {
        "colab": {
          "base_uri": "https://localhost:8080/",
          "height": 251
        },
        "id": "Fw5vxj8a5LC4",
        "outputId": "b9b5aa11-a18e-4201-a40f-a7e5ef2ee883"
      },
      "source": [
        "# (1) Load the data and display the dimension and a brief statistics summary\n",
        "import pandas as pd # data analysis\n",
        "ulc_train = pd.read_csv(\"./machine learning/ULC_training.csv\") \n",
        "ulc_train.head()"
      ],
      "execution_count": 2,
      "outputs": [
        {
          "output_type": "execute_result",
          "data": {
            "text/html": [
              "<div>\n",
              "<style scoped>\n",
              "    .dataframe tbody tr th:only-of-type {\n",
              "        vertical-align: middle;\n",
              "    }\n",
              "\n",
              "    .dataframe tbody tr th {\n",
              "        vertical-align: top;\n",
              "    }\n",
              "\n",
              "    .dataframe thead th {\n",
              "        text-align: right;\n",
              "    }\n",
              "</style>\n",
              "<table border=\"1\" class=\"dataframe\">\n",
              "  <thead>\n",
              "    <tr style=\"text-align: right;\">\n",
              "      <th></th>\n",
              "      <th>class</th>\n",
              "      <th>BrdIndx</th>\n",
              "      <th>Area</th>\n",
              "      <th>Round</th>\n",
              "      <th>Bright</th>\n",
              "      <th>Compact</th>\n",
              "      <th>ShpIndx</th>\n",
              "      <th>Mean_G</th>\n",
              "      <th>Mean_R</th>\n",
              "      <th>Mean_NIR</th>\n",
              "      <th>SD_G</th>\n",
              "      <th>SD_R</th>\n",
              "      <th>SD_NIR</th>\n",
              "      <th>LW</th>\n",
              "      <th>GLCM1</th>\n",
              "      <th>Rect</th>\n",
              "      <th>GLCM2</th>\n",
              "      <th>Dens</th>\n",
              "      <th>Assym</th>\n",
              "      <th>NDVI</th>\n",
              "      <th>BordLngth</th>\n",
              "      <th>GLCM3</th>\n",
              "      <th>BrdIndx_40</th>\n",
              "      <th>Area_40</th>\n",
              "      <th>Round_40</th>\n",
              "      <th>Bright_40</th>\n",
              "      <th>Compact_40</th>\n",
              "      <th>ShpIndx_40</th>\n",
              "      <th>Mean_G_40</th>\n",
              "      <th>Mean_R_40</th>\n",
              "      <th>Mean_NIR_40</th>\n",
              "      <th>SD_G_40</th>\n",
              "      <th>SD_R_40</th>\n",
              "      <th>SD_NIR_40</th>\n",
              "      <th>LW_40</th>\n",
              "      <th>GLCM1_40</th>\n",
              "      <th>Rect_40</th>\n",
              "      <th>GLCM2_40</th>\n",
              "      <th>Dens_40</th>\n",
              "      <th>Assym_40</th>\n",
              "      <th>...</th>\n",
              "      <th>Round_120</th>\n",
              "      <th>Bright_120</th>\n",
              "      <th>Compact_120</th>\n",
              "      <th>ShpIndx_120</th>\n",
              "      <th>Mean_G_120</th>\n",
              "      <th>Mean_R_120</th>\n",
              "      <th>Mean_NIR_120</th>\n",
              "      <th>SD_G_120</th>\n",
              "      <th>SD_R_120</th>\n",
              "      <th>SD_NIR_120</th>\n",
              "      <th>LW_120</th>\n",
              "      <th>GLCM1_120</th>\n",
              "      <th>Rect_120</th>\n",
              "      <th>GLCM2_120</th>\n",
              "      <th>Dens_120</th>\n",
              "      <th>Assym_120</th>\n",
              "      <th>NDVI_120</th>\n",
              "      <th>BordLngth_120</th>\n",
              "      <th>GLCM3_120</th>\n",
              "      <th>BrdIndx_140</th>\n",
              "      <th>Area_140</th>\n",
              "      <th>Round_140</th>\n",
              "      <th>Bright_140</th>\n",
              "      <th>Compact_140</th>\n",
              "      <th>ShpIndx_140</th>\n",
              "      <th>Mean_G_140</th>\n",
              "      <th>Mean_R_140</th>\n",
              "      <th>Mean_NIR_140</th>\n",
              "      <th>SD_G_140</th>\n",
              "      <th>SD_R_140</th>\n",
              "      <th>SD_NIR_140</th>\n",
              "      <th>LW_140</th>\n",
              "      <th>GLCM1_140</th>\n",
              "      <th>Rect_140</th>\n",
              "      <th>GLCM2_140</th>\n",
              "      <th>Dens_140</th>\n",
              "      <th>Assym_140</th>\n",
              "      <th>NDVI_140</th>\n",
              "      <th>BordLngth_140</th>\n",
              "      <th>GLCM3_140</th>\n",
              "    </tr>\n",
              "  </thead>\n",
              "  <tbody>\n",
              "    <tr>\n",
              "      <th>0</th>\n",
              "      <td>car</td>\n",
              "      <td>1.27</td>\n",
              "      <td>91</td>\n",
              "      <td>0.97</td>\n",
              "      <td>231.38</td>\n",
              "      <td>1.39</td>\n",
              "      <td>1.47</td>\n",
              "      <td>207.92</td>\n",
              "      <td>241.74</td>\n",
              "      <td>244.48</td>\n",
              "      <td>21.41</td>\n",
              "      <td>20.40</td>\n",
              "      <td>18.69</td>\n",
              "      <td>2.19</td>\n",
              "      <td>0.48</td>\n",
              "      <td>0.87</td>\n",
              "      <td>6.23</td>\n",
              "      <td>1.60</td>\n",
              "      <td>0.74</td>\n",
              "      <td>-0.08</td>\n",
              "      <td>56</td>\n",
              "      <td>4219.69</td>\n",
              "      <td>1.33</td>\n",
              "      <td>97</td>\n",
              "      <td>1.12</td>\n",
              "      <td>227.19</td>\n",
              "      <td>1.32</td>\n",
              "      <td>1.42</td>\n",
              "      <td>203.95</td>\n",
              "      <td>237.23</td>\n",
              "      <td>240.38</td>\n",
              "      <td>27.63</td>\n",
              "      <td>28.36</td>\n",
              "      <td>26.18</td>\n",
              "      <td>2.00</td>\n",
              "      <td>0.50</td>\n",
              "      <td>0.85</td>\n",
              "      <td>6.29</td>\n",
              "      <td>1.67</td>\n",
              "      <td>0.70</td>\n",
              "      <td>...</td>\n",
              "      <td>1.12</td>\n",
              "      <td>227.19</td>\n",
              "      <td>1.32</td>\n",
              "      <td>1.42</td>\n",
              "      <td>203.95</td>\n",
              "      <td>237.23</td>\n",
              "      <td>240.38</td>\n",
              "      <td>27.63</td>\n",
              "      <td>28.36</td>\n",
              "      <td>26.18</td>\n",
              "      <td>2.00</td>\n",
              "      <td>0.50</td>\n",
              "      <td>0.85</td>\n",
              "      <td>6.29</td>\n",
              "      <td>1.67</td>\n",
              "      <td>0.70</td>\n",
              "      <td>-0.08</td>\n",
              "      <td>56</td>\n",
              "      <td>3806.36</td>\n",
              "      <td>1.33</td>\n",
              "      <td>97</td>\n",
              "      <td>1.12</td>\n",
              "      <td>227.19</td>\n",
              "      <td>1.32</td>\n",
              "      <td>1.42</td>\n",
              "      <td>203.95</td>\n",
              "      <td>237.23</td>\n",
              "      <td>240.38</td>\n",
              "      <td>27.63</td>\n",
              "      <td>28.36</td>\n",
              "      <td>26.18</td>\n",
              "      <td>2.00</td>\n",
              "      <td>0.50</td>\n",
              "      <td>0.85</td>\n",
              "      <td>6.29</td>\n",
              "      <td>1.67</td>\n",
              "      <td>0.70</td>\n",
              "      <td>-0.08</td>\n",
              "      <td>56</td>\n",
              "      <td>3806.36</td>\n",
              "    </tr>\n",
              "    <tr>\n",
              "      <th>1</th>\n",
              "      <td>concrete</td>\n",
              "      <td>2.36</td>\n",
              "      <td>241</td>\n",
              "      <td>1.56</td>\n",
              "      <td>216.15</td>\n",
              "      <td>2.46</td>\n",
              "      <td>2.51</td>\n",
              "      <td>187.85</td>\n",
              "      <td>229.39</td>\n",
              "      <td>231.20</td>\n",
              "      <td>6.57</td>\n",
              "      <td>6.97</td>\n",
              "      <td>7.02</td>\n",
              "      <td>1.52</td>\n",
              "      <td>0.45</td>\n",
              "      <td>0.63</td>\n",
              "      <td>6.35</td>\n",
              "      <td>1.55</td>\n",
              "      <td>0.69</td>\n",
              "      <td>-0.10</td>\n",
              "      <td>156</td>\n",
              "      <td>3682.08</td>\n",
              "      <td>3.01</td>\n",
              "      <td>1188</td>\n",
              "      <td>1.45</td>\n",
              "      <td>209.44</td>\n",
              "      <td>2.25</td>\n",
              "      <td>3.54</td>\n",
              "      <td>181.91</td>\n",
              "      <td>222.46</td>\n",
              "      <td>223.95</td>\n",
              "      <td>9.82</td>\n",
              "      <td>10.37</td>\n",
              "      <td>10.51</td>\n",
              "      <td>2.97</td>\n",
              "      <td>0.63</td>\n",
              "      <td>0.65</td>\n",
              "      <td>7.16</td>\n",
              "      <td>1.43</td>\n",
              "      <td>0.83</td>\n",
              "      <td>...</td>\n",
              "      <td>1.66</td>\n",
              "      <td>211.94</td>\n",
              "      <td>2.90</td>\n",
              "      <td>4.97</td>\n",
              "      <td>186.31</td>\n",
              "      <td>223.83</td>\n",
              "      <td>225.68</td>\n",
              "      <td>22.62</td>\n",
              "      <td>22.92</td>\n",
              "      <td>22.29</td>\n",
              "      <td>2.25</td>\n",
              "      <td>0.79</td>\n",
              "      <td>0.55</td>\n",
              "      <td>8.42</td>\n",
              "      <td>1.38</td>\n",
              "      <td>0.81</td>\n",
              "      <td>-0.09</td>\n",
              "      <td>1746</td>\n",
              "      <td>1450.14</td>\n",
              "      <td>4.57</td>\n",
              "      <td>7711</td>\n",
              "      <td>1.66</td>\n",
              "      <td>211.94</td>\n",
              "      <td>2.90</td>\n",
              "      <td>4.97</td>\n",
              "      <td>186.31</td>\n",
              "      <td>223.83</td>\n",
              "      <td>225.68</td>\n",
              "      <td>22.62</td>\n",
              "      <td>22.92</td>\n",
              "      <td>22.29</td>\n",
              "      <td>2.25</td>\n",
              "      <td>0.79</td>\n",
              "      <td>0.55</td>\n",
              "      <td>8.42</td>\n",
              "      <td>1.38</td>\n",
              "      <td>0.81</td>\n",
              "      <td>-0.09</td>\n",
              "      <td>1746</td>\n",
              "      <td>1450.14</td>\n",
              "    </tr>\n",
              "    <tr>\n",
              "      <th>2</th>\n",
              "      <td>concrete</td>\n",
              "      <td>2.12</td>\n",
              "      <td>266</td>\n",
              "      <td>1.47</td>\n",
              "      <td>232.18</td>\n",
              "      <td>2.07</td>\n",
              "      <td>2.21</td>\n",
              "      <td>206.54</td>\n",
              "      <td>244.22</td>\n",
              "      <td>245.79</td>\n",
              "      <td>6.16</td>\n",
              "      <td>4.93</td>\n",
              "      <td>5.53</td>\n",
              "      <td>1.14</td>\n",
              "      <td>0.52</td>\n",
              "      <td>0.78</td>\n",
              "      <td>6.19</td>\n",
              "      <td>1.88</td>\n",
              "      <td>0.19</td>\n",
              "      <td>-0.08</td>\n",
              "      <td>144</td>\n",
              "      <td>2943.35</td>\n",
              "      <td>2.32</td>\n",
              "      <td>1095</td>\n",
              "      <td>1.50</td>\n",
              "      <td>232.50</td>\n",
              "      <td>1.93</td>\n",
              "      <td>2.55</td>\n",
              "      <td>208.36</td>\n",
              "      <td>244.07</td>\n",
              "      <td>245.08</td>\n",
              "      <td>6.55</td>\n",
              "      <td>7.01</td>\n",
              "      <td>6.83</td>\n",
              "      <td>2.19</td>\n",
              "      <td>0.49</td>\n",
              "      <td>0.74</td>\n",
              "      <td>6.51</td>\n",
              "      <td>1.61</td>\n",
              "      <td>0.81</td>\n",
              "      <td>...</td>\n",
              "      <td>1.17</td>\n",
              "      <td>222.97</td>\n",
              "      <td>1.87</td>\n",
              "      <td>2.08</td>\n",
              "      <td>201.51</td>\n",
              "      <td>232.96</td>\n",
              "      <td>234.43</td>\n",
              "      <td>15.35</td>\n",
              "      <td>15.93</td>\n",
              "      <td>15.59</td>\n",
              "      <td>2.19</td>\n",
              "      <td>0.76</td>\n",
              "      <td>0.74</td>\n",
              "      <td>7.24</td>\n",
              "      <td>1.68</td>\n",
              "      <td>0.81</td>\n",
              "      <td>-0.07</td>\n",
              "      <td>566</td>\n",
              "      <td>1094.04</td>\n",
              "      <td>1.93</td>\n",
              "      <td>4606</td>\n",
              "      <td>1.17</td>\n",
              "      <td>222.97</td>\n",
              "      <td>1.87</td>\n",
              "      <td>2.08</td>\n",
              "      <td>201.51</td>\n",
              "      <td>232.96</td>\n",
              "      <td>234.43</td>\n",
              "      <td>15.35</td>\n",
              "      <td>15.93</td>\n",
              "      <td>15.59</td>\n",
              "      <td>2.19</td>\n",
              "      <td>0.76</td>\n",
              "      <td>0.74</td>\n",
              "      <td>7.24</td>\n",
              "      <td>1.68</td>\n",
              "      <td>0.81</td>\n",
              "      <td>-0.07</td>\n",
              "      <td>566</td>\n",
              "      <td>1094.04</td>\n",
              "    </tr>\n",
              "    <tr>\n",
              "      <th>3</th>\n",
              "      <td>concrete</td>\n",
              "      <td>2.42</td>\n",
              "      <td>399</td>\n",
              "      <td>1.28</td>\n",
              "      <td>230.40</td>\n",
              "      <td>2.49</td>\n",
              "      <td>2.73</td>\n",
              "      <td>204.60</td>\n",
              "      <td>243.27</td>\n",
              "      <td>243.32</td>\n",
              "      <td>5.76</td>\n",
              "      <td>5.56</td>\n",
              "      <td>5.46</td>\n",
              "      <td>2.51</td>\n",
              "      <td>0.50</td>\n",
              "      <td>0.74</td>\n",
              "      <td>6.28</td>\n",
              "      <td>1.51</td>\n",
              "      <td>0.83</td>\n",
              "      <td>-0.09</td>\n",
              "      <td>218</td>\n",
              "      <td>3550.19</td>\n",
              "      <td>3.16</td>\n",
              "      <td>4009</td>\n",
              "      <td>2.28</td>\n",
              "      <td>231.57</td>\n",
              "      <td>3.48</td>\n",
              "      <td>3.47</td>\n",
              "      <td>204.77</td>\n",
              "      <td>245.17</td>\n",
              "      <td>244.76</td>\n",
              "      <td>9.55</td>\n",
              "      <td>9.35</td>\n",
              "      <td>9.34</td>\n",
              "      <td>2.27</td>\n",
              "      <td>0.63</td>\n",
              "      <td>0.62</td>\n",
              "      <td>7.04</td>\n",
              "      <td>1.32</td>\n",
              "      <td>0.84</td>\n",
              "      <td>...</td>\n",
              "      <td>1.41</td>\n",
              "      <td>226.65</td>\n",
              "      <td>2.06</td>\n",
              "      <td>2.88</td>\n",
              "      <td>200.18</td>\n",
              "      <td>239.93</td>\n",
              "      <td>239.83</td>\n",
              "      <td>13.69</td>\n",
              "      <td>13.75</td>\n",
              "      <td>13.51</td>\n",
              "      <td>3.34</td>\n",
              "      <td>0.82</td>\n",
              "      <td>0.74</td>\n",
              "      <td>7.44</td>\n",
              "      <td>1.36</td>\n",
              "      <td>0.92</td>\n",
              "      <td>-0.09</td>\n",
              "      <td>1178</td>\n",
              "      <td>1125.38</td>\n",
              "      <td>2.41</td>\n",
              "      <td>10482</td>\n",
              "      <td>1.41</td>\n",
              "      <td>226.65</td>\n",
              "      <td>2.06</td>\n",
              "      <td>2.88</td>\n",
              "      <td>200.18</td>\n",
              "      <td>239.93</td>\n",
              "      <td>239.83</td>\n",
              "      <td>13.69</td>\n",
              "      <td>13.75</td>\n",
              "      <td>13.51</td>\n",
              "      <td>3.34</td>\n",
              "      <td>0.82</td>\n",
              "      <td>0.74</td>\n",
              "      <td>7.44</td>\n",
              "      <td>1.36</td>\n",
              "      <td>0.92</td>\n",
              "      <td>-0.09</td>\n",
              "      <td>1178</td>\n",
              "      <td>1125.38</td>\n",
              "    </tr>\n",
              "    <tr>\n",
              "      <th>4</th>\n",
              "      <td>concrete</td>\n",
              "      <td>2.15</td>\n",
              "      <td>944</td>\n",
              "      <td>1.73</td>\n",
              "      <td>193.18</td>\n",
              "      <td>2.28</td>\n",
              "      <td>4.10</td>\n",
              "      <td>165.98</td>\n",
              "      <td>205.55</td>\n",
              "      <td>208.00</td>\n",
              "      <td>11.46</td>\n",
              "      <td>8.90</td>\n",
              "      <td>9.77</td>\n",
              "      <td>12.26</td>\n",
              "      <td>0.71</td>\n",
              "      <td>0.59</td>\n",
              "      <td>7.36</td>\n",
              "      <td>0.63</td>\n",
              "      <td>0.99</td>\n",
              "      <td>-0.11</td>\n",
              "      <td>504</td>\n",
              "      <td>2300.41</td>\n",
              "      <td>2.15</td>\n",
              "      <td>944</td>\n",
              "      <td>1.73</td>\n",
              "      <td>193.18</td>\n",
              "      <td>2.28</td>\n",
              "      <td>4.10</td>\n",
              "      <td>165.98</td>\n",
              "      <td>205.55</td>\n",
              "      <td>208.00</td>\n",
              "      <td>11.46</td>\n",
              "      <td>8.90</td>\n",
              "      <td>9.77</td>\n",
              "      <td>12.26</td>\n",
              "      <td>0.71</td>\n",
              "      <td>0.59</td>\n",
              "      <td>7.36</td>\n",
              "      <td>0.63</td>\n",
              "      <td>0.99</td>\n",
              "      <td>...</td>\n",
              "      <td>2.37</td>\n",
              "      <td>193.39</td>\n",
              "      <td>5.03</td>\n",
              "      <td>12.06</td>\n",
              "      <td>172.13</td>\n",
              "      <td>203.14</td>\n",
              "      <td>204.91</td>\n",
              "      <td>17.38</td>\n",
              "      <td>14.93</td>\n",
              "      <td>15.65</td>\n",
              "      <td>50.08</td>\n",
              "      <td>0.85</td>\n",
              "      <td>0.49</td>\n",
              "      <td>8.15</td>\n",
              "      <td>0.23</td>\n",
              "      <td>1.00</td>\n",
              "      <td>-0.08</td>\n",
              "      <td>6232</td>\n",
              "      <td>1146.38</td>\n",
              "      <td>3.34</td>\n",
              "      <td>16680</td>\n",
              "      <td>2.37</td>\n",
              "      <td>193.39</td>\n",
              "      <td>5.03</td>\n",
              "      <td>12.06</td>\n",
              "      <td>172.13</td>\n",
              "      <td>203.14</td>\n",
              "      <td>204.91</td>\n",
              "      <td>17.38</td>\n",
              "      <td>14.93</td>\n",
              "      <td>15.65</td>\n",
              "      <td>50.08</td>\n",
              "      <td>0.85</td>\n",
              "      <td>0.49</td>\n",
              "      <td>8.15</td>\n",
              "      <td>0.23</td>\n",
              "      <td>1.00</td>\n",
              "      <td>-0.08</td>\n",
              "      <td>6232</td>\n",
              "      <td>1146.38</td>\n",
              "    </tr>\n",
              "  </tbody>\n",
              "</table>\n",
              "<p>5 rows × 148 columns</p>\n",
              "</div>"
            ],
            "text/plain": [
              "       class  BrdIndx  Area  ...  NDVI_140  BordLngth_140  GLCM3_140\n",
              "0       car      1.27    91  ...     -0.08             56    3806.36\n",
              "1  concrete      2.36   241  ...     -0.09           1746    1450.14\n",
              "2  concrete      2.12   266  ...     -0.07            566    1094.04\n",
              "3  concrete      2.42   399  ...     -0.09           1178    1125.38\n",
              "4  concrete      2.15   944  ...     -0.08           6232    1146.38\n",
              "\n",
              "[5 rows x 148 columns]"
            ]
          },
          "metadata": {},
          "execution_count": 2
        }
      ]
    },
    {
      "cell_type": "code",
      "metadata": {
        "colab": {
          "base_uri": "https://localhost:8080/"
        },
        "id": "jwKrAxGk5LC5",
        "outputId": "409d0016-8e10-4806-9800-9f77c38fbfff"
      },
      "source": [
        "print(ulc_train.shape)\n",
        "print(ulc_train.describe())\n",
        "print(ulc_train['class'].value_counts())"
      ],
      "execution_count": null,
      "outputs": [
        {
          "name": "stdout",
          "output_type": "stream",
          "text": [
            "(168, 148)\n",
            "          BrdIndx         Area  ...  BordLngth_140    GLCM3_140\n",
            "count  168.000000   168.000000  ...     168.000000   168.000000\n",
            "mean     2.008512   565.869048  ...     983.309524  1275.292917\n",
            "std      0.634807   679.852886  ...     880.013745   603.658611\n",
            "min      1.000000    10.000000  ...      56.000000   336.730000\n",
            "25%      1.537500   178.000000  ...     320.000000   817.405000\n",
            "50%      1.920000   315.000000  ...     776.000000  1187.025000\n",
            "75%      2.375000   667.000000  ...    1412.500000  1588.427500\n",
            "max      4.190000  3659.000000  ...    6232.000000  3806.360000\n",
            "\n",
            "[8 rows x 147 columns]\n",
            "grass        29\n",
            "building     25\n",
            "concrete     23\n",
            "tree         17\n",
            "shadow       16\n",
            "car          15\n",
            "pool         15\n",
            "asphalt      14\n",
            "soil         14\n",
            "Name: class, dtype: int64\n"
          ]
        }
      ]
    },
    {
      "cell_type": "code",
      "metadata": {
        "colab": {
          "base_uri": "https://localhost:8080/"
        },
        "id": "WQMRNEIu5LC6",
        "outputId": "9fc9fe44-5bc3-49ea-9b88-7e45feb8443a"
      },
      "source": [
        "ulc_test = pd.read_csv(\"/content/drive/MyDrive/ubs/machine learning/ULC_testing.csv\") \n",
        "ulc_test.head()\n",
        "print(ulc_test.shape)"
      ],
      "execution_count": null,
      "outputs": [
        {
          "name": "stdout",
          "output_type": "stream",
          "text": [
            "(507, 148)\n"
          ]
        }
      ]
    },
    {
      "cell_type": "code",
      "metadata": {
        "id": "cedTge9_5LC8"
      },
      "source": [
        "# (2) Select the variables that we be used \n",
        "target_column = \"class\" # The response variable that we will consider\n",
        "features_columns = list(ulc_train)\n",
        "features_columns.remove('class') # The predictors/features used to predict the target\n",
        "#print(target_column)\n",
        "#print(features_columns)"
      ],
      "execution_count": null,
      "outputs": []
    },
    {
      "cell_type": "code",
      "metadata": {
        "id": "G5s-S5c85LC9"
      },
      "source": [
        "data, target = ulc_train[features_columns], ulc_train[target_column]        #dividing data to training set\n",
        "data_test, target_test = ulc_test[features_columns], ulc_test[target_column]    #ddividing data to testing set\n"
      ],
      "execution_count": null,
      "outputs": []
    },
    {
      "cell_type": "markdown",
      "metadata": {
        "id": "YxfKsH8K5LDA"
      },
      "source": [
        "**Question 1. Fit a random forest on the training set to explain the type of soil (variable class) according to multi-scale spectral, size, shape, and texture information. You will use the values for $n\\_estimators= 500 $ and $ max\\_features= \\sqrt(d)$ with $d$ denoting the number of features, $oob\\_score=True$  and $random\\_state=0$. Remind the meaning of $n\\_estimators $ and $ max\\_features$. Compute the oob score and explain. What does it represent ?**\n"
      ]
    },
    {
      "cell_type": "code",
      "metadata": {
        "colab": {
          "base_uri": "https://localhost:8080/"
        },
        "id": "TUsKk4Sn5LDB",
        "outputId": "bc3ea4f1-a142-4aa6-a3e0-2edeac4f7141"
      },
      "source": [
        "##------- Complete the command below by filling in the gaps '...'.-------##\n",
        "## Help: \n",
        "## - import RandomForestClassifier from sklearn.ensemble\n",
        "## - see the documentation about random forest classifier with scikit-learn : https://scikit-learn.org/stable/modules/generated/sklearn.ensemble.RandomForestClassifier.html\n",
        "#max_feature are the number of feature we wanna cut in each node also randomstate will control bootstrap and feature sampling\n",
        "\n",
        "\n",
        "# Step 1: create the object rfc, it is a RandomForestClassifier object with n_estimators=500, max_features='auto' and random_state=0\n",
        "from sklearn.ensemble import RandomForestClassifier\n",
        "rfc = RandomForestClassifier(n_estimators=500, oob_score=True, random_state=0)#, max_features=)\n",
        "\n",
        "# Step 2: build the random forest on the train set by indicating the input data and the target variable \n",
        "rfc.fit(data,target)\n",
        "\n",
        "# Step 3: look at the parameters used by your forest\n",
        "from pprint import pprint\n",
        "print('Parameters of the forest:\\n')\n",
        "pprint(rfc.get_params())\n",
        "print('\\n')\n",
        "\n",
        "# Step 4: print the oob_score (attributes of rfc named oob_score_)\n",
        "print('oob score: ',rfc.oob_score_)\n",
        "#.....\n"
      ],
      "execution_count": null,
      "outputs": [
        {
          "name": "stdout",
          "output_type": "stream",
          "text": [
            "Parameters of the forest:\n",
            "\n",
            "{'bootstrap': True,\n",
            " 'ccp_alpha': 0.0,\n",
            " 'class_weight': None,\n",
            " 'criterion': 'gini',\n",
            " 'max_depth': None,\n",
            " 'max_features': 'auto',\n",
            " 'max_leaf_nodes': None,\n",
            " 'max_samples': None,\n",
            " 'min_impurity_decrease': 0.0,\n",
            " 'min_impurity_split': None,\n",
            " 'min_samples_leaf': 1,\n",
            " 'min_samples_split': 2,\n",
            " 'min_weight_fraction_leaf': 0.0,\n",
            " 'n_estimators': 500,\n",
            " 'n_jobs': None,\n",
            " 'oob_score': True,\n",
            " 'random_state': 0,\n",
            " 'verbose': 0,\n",
            " 'warm_start': False}\n",
            "\n",
            "\n",
            "oob score:  0.8452380952380952\n"
          ]
        }
      ]
    },
    {
      "cell_type": "markdown",
      "metadata": {
        "id": "JaBMt4d95LDD"
      },
      "source": [
        "**Question 2. Predict the class of each observation of the test sample by using the random forest $\\mathtt{rfc}$ and display the confusion matrix. Comment it. How many observations are misclassified ? Compute the accuracy.**"
      ]
    },
    {
      "cell_type": "code",
      "metadata": {
        "colab": {
          "base_uri": "https://localhost:8080/",
          "height": 296
        },
        "id": "GFTnpt6B5LDE",
        "outputId": "a51b6a67-3921-4d2d-ace4-d6af0a582fd6"
      },
      "source": [
        "##------- Complete the command below by filling in the gaps '...'.-------##\n",
        "\n",
        "# Step 1: compute the predictions\n",
        "predictions_test = rfc.predict(data_test) \n",
        "#print(predictions_test)\n",
        "\n",
        "# Step 2: display the confusion matrix\n",
        "\n",
        "from sklearn.metrics import confusion_matrix, ConfusionMatrixDisplay\n",
        "cm = confusion_matrix(target_test,predictions_test) # define the confusion matrix object\n",
        "disp = ConfusionMatrixDisplay(confusion_matrix=cm,display_labels=rfc.classes_) # display the confusion matrix\n",
        "disp.plot() \n",
        "\n",
        "# Step 3: compute the accuracy\n",
        "accuracy = rfc.score(data_test,predictions_test)\n",
        "print(accuracy) \n",
        "\n",
        "#we see that oob error is much more optimistic than the computational confusion matrix due to computation of avageraing of trees\n"
      ],
      "execution_count": null,
      "outputs": [
        {
          "name": "stdout",
          "output_type": "stream",
          "text": [
            "1.0\n"
          ]
        },
        {
          "data": {
            "image/png": "[encoded data removed]",
            "text/plain": [
              "<Figure size 432x288 with 2 Axes>"
            ]
          },
          "metadata": {},
          "output_type": "display_data"
        }
      ]
    },
    {
      "cell_type": "markdown",
      "metadata": {
        "id": "UagKXrab5LDE"
      },
      "source": [
        "We will now focus on the calibration of some RF parameters: $n\\_estimators$ and $max\\_features$. To calibrate these parameters, we will used the OOB errors.\n",
        "\n",
        "**Question 3.  The code below shows how the OOB error can be measured at the addition of each new tree during training. The resulting plot can be used to approximate a suitable value of $n\\_estimators$ at which the OOB error stabilizes. Comment this plot. What value for $n\\_estimators$ does it seem suitable ?**"
      ]
    },
    {
      "cell_type": "code",
      "metadata": {
        "colab": {
          "base_uri": "https://localhost:8080/",
          "height": 280
        },
        "id": "wEhkhWYy5LDG",
        "outputId": "869aa2b1-2045-4cc0-fbe9-e2e40fb320bb"
      },
      "source": [
        "import matplotlib.pyplot as plt\n",
        "\n",
        "RANDOM_STATE = 0\n",
        "\n",
        "\n",
        "# Map a classifier name to a list of (<n_estimators>, <error rate>) pairs.\n",
        "error_rate = []\n",
        "\n",
        "# Range of `n_estimators` values to explore.\n",
        "min_estimators = 100\n",
        "max_estimators = 800\n",
        "step=5\n",
        "\n",
        "for i in range(min_estimators, max_estimators+1, step):\n",
        "    rfc = RandomForestClassifier(warm_start=True, n_estimators=i, max_features='auto',random_state=RANDOM_STATE, oob_score=True)\n",
        "    rfc.fit(data, target)\n",
        "\n",
        "    # Record the OOB error for each `n_estimators=i` setting.\n",
        "    oob_error = 1 - rfc.oob_score_\n",
        "    error_rate.append(oob_error)\n",
        "  \n",
        "\n",
        "# Plot Generate the \"OOB error rate\" vs. \"n_estimators\" plot\n",
        "\n",
        "plt.plot(range(min_estimators, max_estimators +1, step), error_rate, label=\"OOB error rate\")\n",
        "\n",
        "plt.ylim(0, 1.5*max(error_rate)) \n",
        "plt.xlim(min_estimators, max_estimators)\n",
        "plt.xlabel(\"n_estimators\")\n",
        "plt.ylabel(\"OOB error rate vs. number of trees\")\n",
        "plt.legend(loc=\"upper right\")\n",
        "plt.show()\n"
      ],
      "execution_count": null,
      "outputs": [
        {
          "data": {
            "image/png": "[encoded data removed]",
            "text/plain": [
              "<Figure size 432x288 with 1 Axes>"
            ]
          },
          "metadata": {},
          "output_type": "display_data"
        }
      ]
    },
    {
      "cell_type": "code",
      "metadata": {
        "id": "00AaIqkp5LDH"
      },
      "source": [
        "##----- You can write your answer here or on a paper as well-----##"
      ],
      "execution_count": null,
      "outputs": []
    },
    {
      "cell_type": "markdown",
      "metadata": {
        "id": "CoXOfZCVBz1c"
      },
      "source": [
        "Though the oob_error is less for higher number of trees that suggest better accuaracy. Still I will sugguest to take a value in such a way that the model is stabilized, so here I choose to take 600 values for n_estimator. Also, taking into consideration larger the value for n_estimator more complex will be the tree."
      ]
    },
    {
      "cell_type": "markdown",
      "metadata": {
        "id": "pdPE00Ow5LDH"
      },
      "source": [
        "**Question 4. Now, we will repeat 10 times a 3-fold cross validation with the function GridSearchCV to calibrate at the same time the parameters $n\\_estimators$ and $max\\_features$. Then Comment the result and next build a forest using the best values for the parameters $n\\_estimators$ and $max\\_features$. Compute the accuracy on the test set and display the confusion matrix. Compare the performance of this forest with the previous one.**"
      ]
    },
    {
      "cell_type": "code",
      "metadata": {
        "colab": {
          "background_save": true
        },
        "id": "C6t1ZtyC5LDI",
        "outputId": "323db491-78fe-4797-ec54-ea927b4b7349"
      },
      "source": [
        "# Step 1: create a grid with all the values that we will considers for the two paramters\n",
        "grid = {\n",
        "    'max_features':[0.1,0.2,0.3,0.4,0.5,0.6,0.7,0.8,0.9], #it mean each time i take 10% of my feature\n",
        "    'n_estimators':[200,400,600,800]\n",
        "}\n",
        "\n",
        "# Step 2: use the grid to to search for the best couple of parameters\n",
        "from sklearn.model_selection import GridSearchCV\n",
        "rf = RandomForestClassifier() # create the forest model to tune\n",
        "\n",
        "B=10\n",
        "results_cv=pd.DataFrame()\n",
        "for i in range(B):\n",
        "    rf_cv = GridSearchCV(estimator=rf,param_grid=grid, cv=3,n_jobs=-1)# Search the best values for the parameters using 3-fold cross validation, and use all available cores(n_jobs=-1)\n",
        "    rf_cv.fit(data, target) # Fit the CV search\n",
        "    if i==0: \n",
        "        results_cv=pd.DataFrame(rf_cv.cv_results_)[[\"params\",\"mean_test_score\",\"std_test_score\"]]\n",
        "    else:\n",
        "        results_cv[\"mean_test_score\"]=results_cv[\"mean_test_score\"]+pd.DataFrame(rf_cv.cv_results_)[\"mean_test_score\"]\n",
        "        results_cv[\"std_test_score\"]=results_cv[\"std_test_score\"]+pd.DataFrame(rf_cv.cv_results_)[\"std_test_score\"]  \n",
        "        \n",
        "        \n",
        "\n",
        "results_cv[\"mean_test_score\"]=results_cv[\"mean_test_score\"]/B\n",
        "results_cv[\"std_test_score\"]=results_cv[\"std_test_score\"]/B \n",
        "\n",
        "\n",
        "# Step 3: get the best parameters (with the higher performance)\n",
        "ind_best=results_cv[\"mean_test_score\"].idxmax() #keep score that gives the best accuracy \n",
        "print(results_cv[\"params\"].iloc[ind_best])\n",
        "print(results_cv[\"mean_test_score\"].iloc[ind_best])\n",
        "print(results_cv[\"std_test_score\"].iloc[ind_best])\n"
      ],
      "execution_count": null,
      "outputs": [
        {
          "name": "stdout",
          "output_type": "stream",
          "text": [
            "{'max_features': 0.1, 'n_estimators': 200}\n",
            "0.8357142857142857\n",
            "0.04313101424651139\n"
          ]
        }
      ]
    },
    {
      "cell_type": "markdown",
      "metadata": {
        "id": "-eopdh_i5LDJ"
      },
      "source": [
        "**Question 5. Build a forest using the best values for the parameters $n\\_estimators$ and $max\\_features$. Compute the accuracy on the test set and display the confusion matrix. Compare the performance of this forest with the previous one.**"
      ]
    },
    {
      "cell_type": "code",
      "metadata": {
        "colab": {
          "base_uri": "https://localhost:8080/",
          "height": 296
        },
        "id": "8bDxVpcV5LDJ",
        "outputId": "66d46941-0286-4760-aa3a-6443c4a1e763"
      },
      "source": [
        "##------- Complete the command below by filling in the gaps '...'.-------##\n",
        "\n",
        "# Step 1: fit a random forest with the best values for parameters\n",
        "best_rfc = RandomForestClassifier(n_estimators=600, max_features=0.1,oob_score=True,random_state=0)\n",
        "\n",
        "# Step 2: build the random forest on the train set by indicating the input data and the target variable \n",
        "best_rfc.fit(data,target)\n",
        "\n",
        "# Step 3: compute the accuracy and the confusion matrix\n",
        "predictions_test_2 = best_rfc.predict(data_test) \n",
        "cm_2 = confusion_matrix(target_test,predictions_test_2)\n",
        "disp = ConfusionMatrixDisplay(confusion_matrix=cm_2,display_labels=best_rfc.classes_)\n",
        "disp.plot() \n",
        "\n",
        "# Step 4: compute the accuracy\n",
        "accuracy_2 = best_rfc.score(data_test,target_test)\n",
        "print(accuracy_2)"
      ],
      "execution_count": null,
      "outputs": [
        {
          "name": "stdout",
          "output_type": "stream",
          "text": [
            "0.8126232741617357\n"
          ]
        },
        {
          "data": {
            "image/png": "[encoded data removed]",
            "text/plain": [
              "<Figure size 432x288 with 2 Axes>"
            ]
          },
          "metadata": {},
          "output_type": "display_data"
        }
      ]
    },
    {
      "cell_type": "markdown",
      "metadata": {
        "id": "l97FCPln5LDK"
      },
      "source": [
        "**Question 6. what value for $max\\_features$ we have to use if we want to apply the bagging algorithm ? Build this model and compute the prediction error of this model based on the test set. Compare this model with the two previous random forests. We will call this model $bag$.**"
      ]
    },
    {
      "cell_type": "code",
      "metadata": {
        "id": "gohdMBMd5LDK"
      },
      "source": [
        "##----- You can write your answer here or on a paper as well-----##"
      ],
      "execution_count": null,
      "outputs": []
    },
    {
      "cell_type": "code",
      "metadata": {
        "colab": {
          "base_uri": "https://localhost:8080/",
          "height": 296
        },
        "id": "DT8JFar25LDL",
        "outputId": "058cca86-f6ea-4de4-e930-bc770ba5f25d"
      },
      "source": [
        "##------- Complete the command below by filling in the gaps '...'.-------##\n",
        "\n",
        "# Step 1: fit a a bagging model (use the best value for n_estimators)\n",
        "bag = RandomForestClassifier(n_estimators=600, max_features=0.1,oob_score=True,random_state=0)\n",
        "\n",
        "# Step 2: build the random forest on the train set by indicating the input data and the target variable \n",
        "bag.fit(data_test, target_test)\n",
        "\n",
        "# Step 3: compute the accuracy and the confusion matrix\n",
        "predictions_test_bag = bag.predict(data_test) \n",
        "cm_bag = confusion_matrix(target_test,predictions_test_bag)\n",
        "disp = ConfusionMatrixDisplay(confusion_matrix=cm_bag,display_labels=bag.classes_)\n",
        "disp.plot() \n",
        "\n",
        "# Step 4: compute the accuracy\n",
        "accuracy_bag = bag.score(data,target)\n",
        "print(accuracy_bag)\n",
        "\n"
      ],
      "execution_count": null,
      "outputs": [
        {
          "name": "stdout",
          "output_type": "stream",
          "text": [
            "0.8273809523809523\n"
          ]
        },
        {
          "data": {
            "image/png": "[encoded data removed]",
            "text/plain": [
              "<Figure size 432x288 with 2 Axes>"
            ]
          },
          "metadata": {},
          "output_type": "display_data"
        }
      ]
    },
    {
      "cell_type": "markdown",
      "metadata": {
        "id": "FUl-09LE5LDL"
      },
      "source": [
        "**Question 7. Fit a maximal CART tree on the training set. Compute the prediction error of this tree based on the test set. name this tree $single\\_tree$.**\n",
        "\n",
        "*Indication: to get the maximal tree, use max_depth=None (the default value).*"
      ]
    },
    {
      "cell_type": "code",
      "metadata": {
        "colab": {
          "base_uri": "https://localhost:8080/",
          "height": 296
        },
        "id": "m_WYWLWB5LDL",
        "outputId": "9d53c6e2-17f6-4246-f26a-1892a1bfbc5c"
      },
      "source": [
        "##------- Complete the command below by filling in the gaps '...'.-------##\n",
        "## Help: see TP1\n",
        "\n",
        "# Step 1: Fit the maximum tree with random_state=0\n",
        "from sklearn.tree import DecisionTreeClassifier, plot_tree\n",
        "single_tree = DecisionTreeClassifier(random_state=0)\n",
        "\n",
        "# Step 2: build the tree on the train set by indicating the input data and the traget variable \n",
        "single_tree.fit(data,target)\n",
        "\n",
        "# Step 3: compute the accuracy and the confusion matrix\n",
        "predictions_test_tree = single_tree.predict(data_test)\n",
        "cm_tree = confusion_matrix(target_test,predictions_test_tree)\n",
        "disp = ConfusionMatrixDisplay(confusion_matrix=cm_tree,display_labels=single_tree.classes_)\n",
        "disp.plot() \n",
        "\n",
        "# ste 4: compute the accuracy on the test set\n",
        "accuracy_tree = single_tree.score(data_test,target_test)\n",
        "print(accuracy_tree)\n"
      ],
      "execution_count": null,
      "outputs": [
        {
          "name": "stdout",
          "output_type": "stream",
          "text": [
            "0.717948717948718\n"
          ]
        },
        {
          "data": {
            "image/png": "[encoded data removed]",
            "text/plain": [
              "<Figure size 432x288 with 2 Axes>"
            ]
          },
          "metadata": {},
          "output_type": "display_data"
        }
      ]
    },
    {
      "cell_type": "code",
      "metadata": {
        "colab": {
          "base_uri": "https://localhost:8080/"
        },
        "id": "eRHgBvd15LDM",
        "outputId": "d00f3246-ede3-442a-f734-98fbff0d3b11"
      },
      "source": [
        "## Solution\n",
        "print(\"node count: \",single_tree.tree_.node_count);\n",
        "print(\"children in the left:\\n \",single_tree.tree_.children_left)\n",
        "print(\"children in the right: \\n\",single_tree.tree_.children_right)\n",
        "print(\"tree impurity:\\n \",single_tree.tree_.impurity)\n",
        "print(\"tree threshold: \\n\",single_tree.tree_.threshold)\n",
        "# Avoir toutes la meilleure coupure pour chaque variable possible ?"
      ],
      "execution_count": null,
      "outputs": [
        {
          "name": "stdout",
          "output_type": "stream",
          "text": [
            "node count:  35\n",
            "children in the left:\n",
            "  [ 1  2 -1  4  5 -1  7 -1 -1 10 11 12 -1 -1 15 16 17 -1 -1 -1 21 -1 -1 -1\n",
            " 25 26 -1 -1 29 30 -1 32 -1 -1 -1]\n",
            "children in the right: \n",
            " [24  3 -1  9  6 -1  8 -1 -1 23 14 13 -1 -1 20 19 18 -1 -1 -1 22 -1 -1 -1\n",
            " 28 27 -1 -1 34 31 -1 33 -1 -1 -1]\n",
            "tree impurity:\n",
            "  [0.8801729  0.84536862 0.         0.818      0.48611111 0.\n",
            " 0.16528926 0.         0.         0.73614958 0.6509003  0.1472\n",
            " 0.         0.         0.54475309 0.24380165 0.44444444 0.\n",
            " 0.         0.         0.24489796 0.         0.         0.\n",
            " 0.59522962 0.42       0.         0.         0.22038567 0.1207076\n",
            " 0.         0.44444444 0.         0.         0.        ]\n",
            "tree threshold: \n",
            " [ 5.49999997e-02 -1.90000005e-01 -2.00000000e+00  9.85349998e+01\n",
            " -9.50000025e-02 -2.00000000e+00  4.45000008e-01 -2.00000000e+00\n",
            " -2.00000000e+00  1.18800001e+01  2.02999997e+00  1.16800000e+03\n",
            " -2.00000000e+00 -2.00000000e+00 -6.49999995e-02  3.94999996e-01\n",
            "  1.42000002e+00 -2.00000000e+00 -2.00000000e+00 -2.00000000e+00\n",
            "  5.38000000e+02 -2.00000000e+00 -2.00000000e+00 -2.00000000e+00\n",
            "  1.40395004e+02  7.15449982e+01 -2.00000000e+00 -2.00000000e+00\n",
            "  1.96334999e+02  2.02399998e+01 -2.00000000e+00  1.27470001e+02\n",
            " -2.00000000e+00 -2.00000000e+00 -2.00000000e+00]\n"
          ]
        }
      ]
    },
    {
      "cell_type": "markdown",
      "metadata": {
        "id": "8qvzLUbP5LDM"
      },
      "source": [
        "**Question 8. Make a comparison between the bagging model $bag$, the single and maximal tree $single\\_tree$ and the optimized random forest $best\\_rfc$. What model do you choose and why ?**"
      ]
    },
    {
      "cell_type": "code",
      "metadata": {
        "colab": {
          "base_uri": "https://localhost:8080/"
        },
        "id": "1M_9nBKh5LDN",
        "outputId": "c6221e28-8801-4183-c197-9c9db9291995"
      },
      "source": [
        "##----- You can write your answer here or on a paper as well-----##\n",
        "print('overall accuracy of single tree model is: ',accuracy_tree)\n",
        "print('overall accuracy of bag model is: ',accuracy_bag)\n",
        "print('overall accuracy of random forest model is: ',accuracy_2)"
      ],
      "execution_count": null,
      "outputs": [
        {
          "name": "stdout",
          "output_type": "stream",
          "text": [
            "overall accuracy of single tree model is:  0.717948717948718\n",
            "overall accuracy of bag model is:  0.8273809523809523\n",
            "overall accuracy of random forest model is:  0.8126232741617357\n"
          ]
        }
      ]
    },
    {
      "cell_type": "markdown",
      "metadata": {
        "id": "FBpu3-Yk5LDN"
      },
      "source": [
        "The code below show the permutation feature importance computed on the test set. The permutation feature importance score is independently computed $n\\_repeats$ times (using each time another permutation of each feature). The final feature importance score corresponds to the mean over the $n\\_repeats$ computations.\n",
        "\n",
        "**Question 9. Comment the plot. What does it represent ?**"
      ]
    },
    {
      "cell_type": "code",
      "metadata": {
        "id": "r_kpPf_l5LDO"
      },
      "source": [
        "## Solution"
      ],
      "execution_count": null,
      "outputs": []
    },
    {
      "cell_type": "code",
      "metadata": {
        "colab": {
          "base_uri": "https://localhost:8080/",
          "height": 297
        },
        "id": "SaaLiXXL5LDO",
        "outputId": "49a1ff7a-f089-4753-8c9e-426c1db459bc"
      },
      "source": [
        "from sklearn.inspection import permutation_importance\n",
        "result = permutation_importance(best_rfc, data_test, target_test, n_repeats=2, random_state=42, n_jobs=2)\n",
        "\n",
        "sorted_idx = result.importances_mean.argsort()\n",
        "invert_sorted_idx=sorted_idx[::-1][:9]\n",
        "\n",
        "fig, ax = plt.subplots()\n",
        "ax.boxplot(result.importances[invert_sorted_idx].T,\n",
        "           vert=False, labels=data_test.columns[invert_sorted_idx])\n",
        "ax.set_title(\"Permutation Importances (test set)\")\n",
        "fig.tight_layout()\n",
        "plt.show()"
      ],
      "execution_count": null,
      "outputs": [
        {
          "data": {
            "image/png": "[encoded data removed]",
            "text/plain": [
              "<Figure size 432x288 with 1 Axes>"
            ]
          },
          "metadata": {},
          "output_type": "display_data"
        }
      ]
    },
    {
      "cell_type": "code",
      "metadata": {
        "id": "X1foseoY5LDO"
      },
      "source": [
        "##----- Write your answer here -----##"
      ],
      "execution_count": null,
      "outputs": []
    },
    {
      "cell_type": "markdown",
      "metadata": {
        "id": "PK1UKjo45LDP"
      },
      "source": [
        "## Ex 2: introduction to regression trees"
      ]
    },
    {
      "cell_type": "markdown",
      "metadata": {
        "id": "1KbDQC5Q5LDP"
      },
      "source": [
        "Here, we consider the dataset named *srbct_data*. It is relative to small round blue cell tumors of childhood. This set is composed of :\n",
        "\n",
        "- a response factor of length 63, called class, indicating the class of each sample (4 classes in total).\n",
        "- 2308 predictors. Each predictor represents the expression of one gene. The features are correlated. \n",
        "\n",
        "More information about the data are available on https://www.rdocumentation.org/packages/plsgenomics/versions/1.5-2/topics/SRBCT \n",
        "\n",
        "The table named *genes_name* contains the names of the genes and a description for each gene."
      ]
    },
    {
      "cell_type": "code",
      "metadata": {
        "colab": {
          "base_uri": "https://localhost:8080/",
          "height": 251
        },
        "id": "ppI7qrnd5LDP",
        "outputId": "80db75a4-e9f9-45f3-f6fc-86628542d3f2"
      },
      "source": [
        "# (1) Load the data and display the dimension and a brief statistics summary\n",
        "import pandas as pd # data analysis\n",
        "srbct_data = pd.read_csv(\"./machine learning/cancer_data.csv\")\n",
        "genes_name = pd.read_csv(\"./machine learning/cancer_data_genes_names.csv\")\n",
        "srbct_data.head()"
      ],
      "execution_count": 4,
      "outputs": [
        {
          "output_type": "execute_result",
          "data": {
            "text/html": [
              "<div>\n",
              "<style scoped>\n",
              "    .dataframe tbody tr th:only-of-type {\n",
              "        vertical-align: middle;\n",
              "    }\n",
              "\n",
              "    .dataframe tbody tr th {\n",
              "        vertical-align: top;\n",
              "    }\n",
              "\n",
              "    .dataframe thead th {\n",
              "        text-align: right;\n",
              "    }\n",
              "</style>\n",
              "<table border=\"1\" class=\"dataframe\">\n",
              "  <thead>\n",
              "    <tr style=\"text-align: right;\">\n",
              "      <th></th>\n",
              "      <th>class</th>\n",
              "      <th>21652</th>\n",
              "      <th>25725</th>\n",
              "      <th>26184</th>\n",
              "      <th>22260</th>\n",
              "      <th>22293</th>\n",
              "      <th>22493</th>\n",
              "      <th>23019</th>\n",
              "      <th>23132</th>\n",
              "      <th>24145</th>\n",
              "      <th>25584</th>\n",
              "      <th>31143</th>\n",
              "      <th>31169</th>\n",
              "      <th>27549</th>\n",
              "      <th>27624</th>\n",
              "      <th>27848</th>\n",
              "      <th>28410</th>\n",
              "      <th>29054</th>\n",
              "      <th>34945</th>\n",
              "      <th>35483</th>\n",
              "      <th>32875</th>\n",
              "      <th>32898</th>\n",
              "      <th>33525</th>\n",
              "      <th>33632</th>\n",
              "      <th>34357</th>\n",
              "      <th>34355</th>\n",
              "      <th>34396</th>\n",
              "      <th>36950</th>\n",
              "      <th>39285</th>\n",
              "      <th>39796</th>\n",
              "      <th>37196</th>\n",
              "      <th>37904</th>\n",
              "      <th>38471</th>\n",
              "      <th>39093</th>\n",
              "      <th>39993</th>\n",
              "      <th>42352</th>\n",
              "      <th>42576</th>\n",
              "      <th>40026</th>\n",
              "      <th>40304</th>\n",
              "      <th>40360</th>\n",
              "      <th>...</th>\n",
              "      <th>343990</th>\n",
              "      <th>290753</th>\n",
              "      <th>115408</th>\n",
              "      <th>323577.1</th>\n",
              "      <th>323371.1</th>\n",
              "      <th>782439</th>\n",
              "      <th>269354.1</th>\n",
              "      <th>502421</th>\n",
              "      <th>291974</th>\n",
              "      <th>376802</th>\n",
              "      <th>1048810</th>\n",
              "      <th>259462</th>\n",
              "      <th>810059.1</th>\n",
              "      <th>771172</th>\n",
              "      <th>809758</th>\n",
              "      <th>810861</th>\n",
              "      <th>810411</th>\n",
              "      <th>795832</th>\n",
              "      <th>810843</th>\n",
              "      <th>191743</th>\n",
              "      <th>811095</th>\n",
              "      <th>811028</th>\n",
              "      <th>810989</th>\n",
              "      <th>770935</th>\n",
              "      <th>782335</th>\n",
              "      <th>366848</th>\n",
              "      <th>810133</th>\n",
              "      <th>795582</th>\n",
              "      <th>809719</th>\n",
              "      <th>33616</th>\n",
              "      <th>809513</th>\n",
              "      <th>504207</th>\n",
              "      <th>810448</th>\n",
              "      <th>810402</th>\n",
              "      <th>782503</th>\n",
              "      <th>795277</th>\n",
              "      <th>809383</th>\n",
              "      <th>809815</th>\n",
              "      <th>810483</th>\n",
              "      <th>503033</th>\n",
              "    </tr>\n",
              "  </thead>\n",
              "  <tbody>\n",
              "    <tr>\n",
              "      <th>0</th>\n",
              "      <td>EWS</td>\n",
              "      <td>3.2025</td>\n",
              "      <td>0.0681</td>\n",
              "      <td>1.0460</td>\n",
              "      <td>0.1243</td>\n",
              "      <td>0.4941</td>\n",
              "      <td>3.1207</td>\n",
              "      <td>3.7106</td>\n",
              "      <td>1.8416</td>\n",
              "      <td>1.2607</td>\n",
              "      <td>2.9001</td>\n",
              "      <td>4.0270</td>\n",
              "      <td>1.0643</td>\n",
              "      <td>4.0651</td>\n",
              "      <td>1.4730</td>\n",
              "      <td>2.7932</td>\n",
              "      <td>0.4815</td>\n",
              "      <td>1.4482</td>\n",
              "      <td>3.3214</td>\n",
              "      <td>0.7022</td>\n",
              "      <td>1.7260</td>\n",
              "      <td>1.5136</td>\n",
              "      <td>3.9255</td>\n",
              "      <td>0.5296</td>\n",
              "      <td>3.9098</td>\n",
              "      <td>3.7136</td>\n",
              "      <td>4.0016</td>\n",
              "      <td>1.1819</td>\n",
              "      <td>2.1459</td>\n",
              "      <td>0.6662</td>\n",
              "      <td>1.7203</td>\n",
              "      <td>0.2690</td>\n",
              "      <td>1.4677</td>\n",
              "      <td>0.6380</td>\n",
              "      <td>2.1497</td>\n",
              "      <td>3.7382</td>\n",
              "      <td>2.7538</td>\n",
              "      <td>0.8587</td>\n",
              "      <td>0.9320</td>\n",
              "      <td>1.0597</td>\n",
              "      <td>...</td>\n",
              "      <td>0.1258</td>\n",
              "      <td>1.6173</td>\n",
              "      <td>0.4661</td>\n",
              "      <td>0.7599</td>\n",
              "      <td>0.2745</td>\n",
              "      <td>0.9985</td>\n",
              "      <td>0.1059</td>\n",
              "      <td>0.5853</td>\n",
              "      <td>3.8000</td>\n",
              "      <td>0.1275</td>\n",
              "      <td>0.5428</td>\n",
              "      <td>0.9514</td>\n",
              "      <td>1.8408</td>\n",
              "      <td>0.2024</td>\n",
              "      <td>0.6766</td>\n",
              "      <td>0.5689</td>\n",
              "      <td>0.5604</td>\n",
              "      <td>0.4027</td>\n",
              "      <td>1.0055</td>\n",
              "      <td>0.4548</td>\n",
              "      <td>0.2620</td>\n",
              "      <td>0.3451</td>\n",
              "      <td>0.7974</td>\n",
              "      <td>0.8585</td>\n",
              "      <td>0.4701</td>\n",
              "      <td>0.2156</td>\n",
              "      <td>0.3792</td>\n",
              "      <td>0.4419</td>\n",
              "      <td>0.2128</td>\n",
              "      <td>0.7948</td>\n",
              "      <td>0.7653</td>\n",
              "      <td>1.6679</td>\n",
              "      <td>0.1493</td>\n",
              "      <td>0.6918</td>\n",
              "      <td>1.4151</td>\n",
              "      <td>0.2756</td>\n",
              "      <td>0.1521</td>\n",
              "      <td>0.3175</td>\n",
              "      <td>0.7240</td>\n",
              "      <td>0.2044</td>\n",
              "    </tr>\n",
              "    <tr>\n",
              "      <th>1</th>\n",
              "      <td>EWS</td>\n",
              "      <td>1.6547</td>\n",
              "      <td>0.0710</td>\n",
              "      <td>1.0409</td>\n",
              "      <td>0.0520</td>\n",
              "      <td>0.2045</td>\n",
              "      <td>2.1609</td>\n",
              "      <td>2.4452</td>\n",
              "      <td>1.1473</td>\n",
              "      <td>0.7371</td>\n",
              "      <td>1.9989</td>\n",
              "      <td>2.6131</td>\n",
              "      <td>0.8541</td>\n",
              "      <td>4.7284</td>\n",
              "      <td>2.4784</td>\n",
              "      <td>1.5103</td>\n",
              "      <td>0.8961</td>\n",
              "      <td>0.4850</td>\n",
              "      <td>2.3431</td>\n",
              "      <td>0.2531</td>\n",
              "      <td>1.7841</td>\n",
              "      <td>1.0886</td>\n",
              "      <td>5.9544</td>\n",
              "      <td>0.5337</td>\n",
              "      <td>2.7007</td>\n",
              "      <td>3.2339</td>\n",
              "      <td>3.4448</td>\n",
              "      <td>2.8296</td>\n",
              "      <td>0.9659</td>\n",
              "      <td>0.4829</td>\n",
              "      <td>1.3528</td>\n",
              "      <td>0.7262</td>\n",
              "      <td>1.2882</td>\n",
              "      <td>2.5171</td>\n",
              "      <td>3.0538</td>\n",
              "      <td>2.8671</td>\n",
              "      <td>1.9144</td>\n",
              "      <td>0.5963</td>\n",
              "      <td>0.9130</td>\n",
              "      <td>0.5030</td>\n",
              "      <td>...</td>\n",
              "      <td>0.1938</td>\n",
              "      <td>1.0460</td>\n",
              "      <td>0.3609</td>\n",
              "      <td>0.5791</td>\n",
              "      <td>1.1683</td>\n",
              "      <td>1.2184</td>\n",
              "      <td>0.1118</td>\n",
              "      <td>0.6409</td>\n",
              "      <td>1.8589</td>\n",
              "      <td>0.1370</td>\n",
              "      <td>0.6127</td>\n",
              "      <td>0.5862</td>\n",
              "      <td>1.3508</td>\n",
              "      <td>0.5225</td>\n",
              "      <td>0.7216</td>\n",
              "      <td>0.6697</td>\n",
              "      <td>0.4791</td>\n",
              "      <td>0.2255</td>\n",
              "      <td>0.6509</td>\n",
              "      <td>0.2902</td>\n",
              "      <td>0.2171</td>\n",
              "      <td>1.6517</td>\n",
              "      <td>1.4018</td>\n",
              "      <td>1.9379</td>\n",
              "      <td>0.3307</td>\n",
              "      <td>0.1734</td>\n",
              "      <td>2.2825</td>\n",
              "      <td>0.3584</td>\n",
              "      <td>0.4693</td>\n",
              "      <td>1.4629</td>\n",
              "      <td>1.0665</td>\n",
              "      <td>3.6014</td>\n",
              "      <td>0.3048</td>\n",
              "      <td>1.7957</td>\n",
              "      <td>1.0701</td>\n",
              "      <td>0.2688</td>\n",
              "      <td>0.1932</td>\n",
              "      <td>0.4140</td>\n",
              "      <td>1.2708</td>\n",
              "      <td>0.2990</td>\n",
              "    </tr>\n",
              "    <tr>\n",
              "      <th>2</th>\n",
              "      <td>EWS</td>\n",
              "      <td>3.2779</td>\n",
              "      <td>0.1160</td>\n",
              "      <td>0.8926</td>\n",
              "      <td>0.1014</td>\n",
              "      <td>0.2818</td>\n",
              "      <td>1.9773</td>\n",
              "      <td>3.2590</td>\n",
              "      <td>1.4106</td>\n",
              "      <td>0.9548</td>\n",
              "      <td>2.0775</td>\n",
              "      <td>4.8139</td>\n",
              "      <td>0.4257</td>\n",
              "      <td>4.7120</td>\n",
              "      <td>2.7548</td>\n",
              "      <td>1.9162</td>\n",
              "      <td>1.2710</td>\n",
              "      <td>1.1331</td>\n",
              "      <td>2.4818</td>\n",
              "      <td>2.0350</td>\n",
              "      <td>1.7340</td>\n",
              "      <td>2.6863</td>\n",
              "      <td>5.5842</td>\n",
              "      <td>1.1332</td>\n",
              "      <td>4.6055</td>\n",
              "      <td>2.2437</td>\n",
              "      <td>3.8154</td>\n",
              "      <td>1.6393</td>\n",
              "      <td>1.9209</td>\n",
              "      <td>0.7984</td>\n",
              "      <td>1.5175</td>\n",
              "      <td>0.5605</td>\n",
              "      <td>1.5492</td>\n",
              "      <td>1.8893</td>\n",
              "      <td>2.0080</td>\n",
              "      <td>4.8112</td>\n",
              "      <td>2.2913</td>\n",
              "      <td>0.2019</td>\n",
              "      <td>1.2415</td>\n",
              "      <td>0.6952</td>\n",
              "      <td>...</td>\n",
              "      <td>0.2517</td>\n",
              "      <td>1.5805</td>\n",
              "      <td>0.4393</td>\n",
              "      <td>0.9812</td>\n",
              "      <td>0.1889</td>\n",
              "      <td>0.2487</td>\n",
              "      <td>0.1411</td>\n",
              "      <td>0.4914</td>\n",
              "      <td>2.7463</td>\n",
              "      <td>0.1947</td>\n",
              "      <td>0.3494</td>\n",
              "      <td>0.6460</td>\n",
              "      <td>2.2891</td>\n",
              "      <td>0.4394</td>\n",
              "      <td>0.8380</td>\n",
              "      <td>0.9131</td>\n",
              "      <td>0.8453</td>\n",
              "      <td>0.4718</td>\n",
              "      <td>0.3814</td>\n",
              "      <td>0.3783</td>\n",
              "      <td>0.3050</td>\n",
              "      <td>5.0694</td>\n",
              "      <td>1.1673</td>\n",
              "      <td>2.1713</td>\n",
              "      <td>0.6075</td>\n",
              "      <td>0.2832</td>\n",
              "      <td>0.6821</td>\n",
              "      <td>0.3776</td>\n",
              "      <td>0.6744</td>\n",
              "      <td>1.7190</td>\n",
              "      <td>1.2674</td>\n",
              "      <td>1.5152</td>\n",
              "      <td>0.2382</td>\n",
              "      <td>0.8720</td>\n",
              "      <td>0.6819</td>\n",
              "      <td>0.3221</td>\n",
              "      <td>0.2156</td>\n",
              "      <td>0.3227</td>\n",
              "      <td>1.2142</td>\n",
              "      <td>0.2230</td>\n",
              "    </tr>\n",
              "    <tr>\n",
              "      <th>3</th>\n",
              "      <td>EWS</td>\n",
              "      <td>1.0060</td>\n",
              "      <td>0.1906</td>\n",
              "      <td>0.4302</td>\n",
              "      <td>0.1035</td>\n",
              "      <td>0.2984</td>\n",
              "      <td>1.6804</td>\n",
              "      <td>5.8901</td>\n",
              "      <td>0.2958</td>\n",
              "      <td>0.7381</td>\n",
              "      <td>1.6610</td>\n",
              "      <td>4.9105</td>\n",
              "      <td>1.5866</td>\n",
              "      <td>9.4802</td>\n",
              "      <td>0.1667</td>\n",
              "      <td>1.1314</td>\n",
              "      <td>2.6361</td>\n",
              "      <td>0.8405</td>\n",
              "      <td>0.9928</td>\n",
              "      <td>0.1239</td>\n",
              "      <td>0.5216</td>\n",
              "      <td>0.9867</td>\n",
              "      <td>4.8170</td>\n",
              "      <td>0.6451</td>\n",
              "      <td>2.0627</td>\n",
              "      <td>3.1900</td>\n",
              "      <td>3.4317</td>\n",
              "      <td>0.1925</td>\n",
              "      <td>0.9634</td>\n",
              "      <td>0.3900</td>\n",
              "      <td>0.3349</td>\n",
              "      <td>0.3040</td>\n",
              "      <td>0.3668</td>\n",
              "      <td>1.7941</td>\n",
              "      <td>2.7727</td>\n",
              "      <td>1.3236</td>\n",
              "      <td>0.8575</td>\n",
              "      <td>1.5864</td>\n",
              "      <td>0.4192</td>\n",
              "      <td>0.6228</td>\n",
              "      <td>...</td>\n",
              "      <td>0.2222</td>\n",
              "      <td>0.0831</td>\n",
              "      <td>0.1247</td>\n",
              "      <td>0.3872</td>\n",
              "      <td>0.0650</td>\n",
              "      <td>0.9711</td>\n",
              "      <td>0.0930</td>\n",
              "      <td>0.6209</td>\n",
              "      <td>3.8167</td>\n",
              "      <td>0.1972</td>\n",
              "      <td>1.1626</td>\n",
              "      <td>0.5633</td>\n",
              "      <td>0.2191</td>\n",
              "      <td>0.4336</td>\n",
              "      <td>1.2013</td>\n",
              "      <td>0.1385</td>\n",
              "      <td>0.3507</td>\n",
              "      <td>0.2304</td>\n",
              "      <td>0.5563</td>\n",
              "      <td>0.1045</td>\n",
              "      <td>0.4819</td>\n",
              "      <td>6.0368</td>\n",
              "      <td>0.7366</td>\n",
              "      <td>1.1104</td>\n",
              "      <td>0.1976</td>\n",
              "      <td>0.3501</td>\n",
              "      <td>0.0790</td>\n",
              "      <td>0.5446</td>\n",
              "      <td>1.2495</td>\n",
              "      <td>0.1422</td>\n",
              "      <td>0.4743</td>\n",
              "      <td>1.0282</td>\n",
              "      <td>0.1049</td>\n",
              "      <td>0.5632</td>\n",
              "      <td>1.2264</td>\n",
              "      <td>0.8123</td>\n",
              "      <td>0.2758</td>\n",
              "      <td>0.3016</td>\n",
              "      <td>0.7235</td>\n",
              "      <td>0.0871</td>\n",
              "    </tr>\n",
              "    <tr>\n",
              "      <th>4</th>\n",
              "      <td>EWS</td>\n",
              "      <td>2.7098</td>\n",
              "      <td>0.2367</td>\n",
              "      <td>0.3693</td>\n",
              "      <td>0.2190</td>\n",
              "      <td>0.3711</td>\n",
              "      <td>1.7800</td>\n",
              "      <td>3.2376</td>\n",
              "      <td>0.6769</td>\n",
              "      <td>0.8546</td>\n",
              "      <td>0.6808</td>\n",
              "      <td>4.5104</td>\n",
              "      <td>0.6461</td>\n",
              "      <td>3.6433</td>\n",
              "      <td>1.7957</td>\n",
              "      <td>1.0375</td>\n",
              "      <td>0.3976</td>\n",
              "      <td>0.8846</td>\n",
              "      <td>1.5156</td>\n",
              "      <td>1.2582</td>\n",
              "      <td>1.0114</td>\n",
              "      <td>1.5428</td>\n",
              "      <td>5.1313</td>\n",
              "      <td>0.6248</td>\n",
              "      <td>4.4183</td>\n",
              "      <td>2.1173</td>\n",
              "      <td>5.5302</td>\n",
              "      <td>1.8151</td>\n",
              "      <td>0.7825</td>\n",
              "      <td>0.4637</td>\n",
              "      <td>0.7564</td>\n",
              "      <td>0.6539</td>\n",
              "      <td>0.9060</td>\n",
              "      <td>0.9905</td>\n",
              "      <td>2.6055</td>\n",
              "      <td>0.9257</td>\n",
              "      <td>1.5953</td>\n",
              "      <td>0.4982</td>\n",
              "      <td>0.8406</td>\n",
              "      <td>0.6296</td>\n",
              "      <td>...</td>\n",
              "      <td>0.0775</td>\n",
              "      <td>0.7065</td>\n",
              "      <td>0.2509</td>\n",
              "      <td>0.5257</td>\n",
              "      <td>0.8960</td>\n",
              "      <td>0.4636</td>\n",
              "      <td>0.1119</td>\n",
              "      <td>0.2938</td>\n",
              "      <td>1.2584</td>\n",
              "      <td>0.0957</td>\n",
              "      <td>0.2059</td>\n",
              "      <td>1.5336</td>\n",
              "      <td>0.5709</td>\n",
              "      <td>0.1684</td>\n",
              "      <td>0.5880</td>\n",
              "      <td>0.6647</td>\n",
              "      <td>1.0810</td>\n",
              "      <td>0.6542</td>\n",
              "      <td>1.2152</td>\n",
              "      <td>0.5564</td>\n",
              "      <td>0.1663</td>\n",
              "      <td>5.4848</td>\n",
              "      <td>0.3547</td>\n",
              "      <td>2.7707</td>\n",
              "      <td>0.6221</td>\n",
              "      <td>0.4338</td>\n",
              "      <td>0.4045</td>\n",
              "      <td>0.5979</td>\n",
              "      <td>0.2370</td>\n",
              "      <td>0.8404</td>\n",
              "      <td>0.7039</td>\n",
              "      <td>0.5961</td>\n",
              "      <td>0.0707</td>\n",
              "      <td>0.4001</td>\n",
              "      <td>1.5271</td>\n",
              "      <td>0.4084</td>\n",
              "      <td>0.6412</td>\n",
              "      <td>0.3552</td>\n",
              "      <td>1.3928</td>\n",
              "      <td>0.2157</td>\n",
              "    </tr>\n",
              "  </tbody>\n",
              "</table>\n",
              "<p>5 rows × 2309 columns</p>\n",
              "</div>"
            ],
            "text/plain": [
              "  class   21652   25725   26184   22260  ...  795277  809383  809815  810483  503033\n",
              "0   EWS  3.2025  0.0681  1.0460  0.1243  ...  0.2756  0.1521  0.3175  0.7240  0.2044\n",
              "1   EWS  1.6547  0.0710  1.0409  0.0520  ...  0.2688  0.1932  0.4140  1.2708  0.2990\n",
              "2   EWS  3.2779  0.1160  0.8926  0.1014  ...  0.3221  0.2156  0.3227  1.2142  0.2230\n",
              "3   EWS  1.0060  0.1906  0.4302  0.1035  ...  0.8123  0.2758  0.3016  0.7235  0.0871\n",
              "4   EWS  2.7098  0.2367  0.3693  0.2190  ...  0.4084  0.6412  0.3552  1.3928  0.2157\n",
              "\n",
              "[5 rows x 2309 columns]"
            ]
          },
          "metadata": {},
          "execution_count": 4
        }
      ]
    },
    {
      "cell_type": "code",
      "metadata": {
        "colab": {
          "base_uri": "https://localhost:8080/",
          "height": 202
        },
        "id": "Q9YNGpPO5LDQ",
        "outputId": "645a138a-5439-4723-9184-aa56b69cc17a"
      },
      "source": [
        "genes_name.head()"
      ],
      "execution_count": 5,
      "outputs": [
        {
          "output_type": "execute_result",
          "data": {
            "text/html": [
              "<div>\n",
              "<style scoped>\n",
              "    .dataframe tbody tr th:only-of-type {\n",
              "        vertical-align: middle;\n",
              "    }\n",
              "\n",
              "    .dataframe tbody tr th {\n",
              "        vertical-align: top;\n",
              "    }\n",
              "\n",
              "    .dataframe thead th {\n",
              "        text-align: right;\n",
              "    }\n",
              "</style>\n",
              "<table border=\"1\" class=\"dataframe\">\n",
              "  <thead>\n",
              "    <tr style=\"text-align: right;\">\n",
              "      <th></th>\n",
              "      <th>Image.Id.</th>\n",
              "      <th>Gene.Description</th>\n",
              "    </tr>\n",
              "  </thead>\n",
              "  <tbody>\n",
              "    <tr>\n",
              "      <th>0</th>\n",
              "      <td>21652.0</td>\n",
              "      <td>catenin (cadherin-associated protein), alpha 1...</td>\n",
              "    </tr>\n",
              "    <tr>\n",
              "      <th>1</th>\n",
              "      <td>25725.0</td>\n",
              "      <td>farnesyl-diphosphate farnesyltransferase 1</td>\n",
              "    </tr>\n",
              "    <tr>\n",
              "      <th>2</th>\n",
              "      <td>26184.0</td>\n",
              "      <td>phosphofructokinase, platelet</td>\n",
              "    </tr>\n",
              "    <tr>\n",
              "      <th>3</th>\n",
              "      <td>22260.0</td>\n",
              "      <td>cytochrome c-1</td>\n",
              "    </tr>\n",
              "    <tr>\n",
              "      <th>4</th>\n",
              "      <td>22293.0</td>\n",
              "      <td>uroporphyrinogen III synthase (congenital eryt...</td>\n",
              "    </tr>\n",
              "  </tbody>\n",
              "</table>\n",
              "</div>"
            ],
            "text/plain": [
              "   Image.Id.                                   Gene.Description\n",
              "0    21652.0  catenin (cadherin-associated protein), alpha 1...\n",
              "1    25725.0         farnesyl-diphosphate farnesyltransferase 1\n",
              "2    26184.0                      phosphofructokinase, platelet\n",
              "3    22260.0                                     cytochrome c-1\n",
              "4    22293.0  uroporphyrinogen III synthase (congenital eryt..."
            ]
          },
          "metadata": {},
          "execution_count": 5
        }
      ]
    },
    {
      "cell_type": "code",
      "metadata": {
        "id": "ddWHETPn5LDQ"
      },
      "source": [
        "# (2) Select the variables that we be used \n",
        "target_name = \"class\" # The response variable that we will consider\n",
        "features_names = list(srbct_data)\n",
        "features_names.remove('class') # The predictors/features used to predict the target\n",
        "#print(target_column)\n",
        "#print(features_columns)"
      ],
      "execution_count": 6,
      "outputs": []
    },
    {
      "cell_type": "code",
      "metadata": {
        "id": "Ylzrvcem5LDQ"
      },
      "source": [
        "# (3) Split the dataset into train and test dataset\n",
        "from sklearn.model_selection import train_test_split\n",
        "X, y = srbct_data[features_names], srbct_data[target_name]\n",
        "X_train, X_test, y_train, y_test = train_test_split(X, y, random_state=42,test_size=0.25)"
      ],
      "execution_count": 7,
      "outputs": []
    },
    {
      "cell_type": "code",
      "metadata": {
        "colab": {
          "base_uri": "https://localhost:8080/"
        },
        "id": "c-QtgRYG9WYP",
        "outputId": "6e0cf62d-ca6b-4623-a5ef-8c8a61667086"
      },
      "source": [
        "# Data Type understanding \n",
        "\n",
        "print(\"Different classes available:\", srbct_data['class'].unique())\n",
        "print(\"length of features:\", len(list(srbct_data.columns)))"
      ],
      "execution_count": 10,
      "outputs": [
        {
          "output_type": "stream",
          "name": "stdout",
          "text": [
            "Different classes available: ['EWS' 'BL' 'NB' 'RMS']\n",
            "length of features: 2309\n"
          ]
        }
      ]
    },
    {
      "cell_type": "markdown",
      "metadata": {
        "id": "pSwxiRKB5LDR"
      },
      "source": [
        "**Questions:**\n",
        " - 1) Build a random forest on this dataset using the default values for the RF parameters and all the features.\n",
        " - 2) Calibrate the two parameters ($n\\_estimators$ and $max\\_features$) using an approach based on either the oob error or cross validation.\n",
        " - 3) Build a second random forest using the calibrated values for the two parameters.\n",
        " - 4) Because there are lots of features and they are correlated, use the variable importance score to select a small subset of variables. Justify your choice.\n",
        " - 5) Build a third random forest based only the selected subset of features.\n",
        " - 6) Compare all these models with a logistic regression."
      ]
    },
    {
      "cell_type": "markdown",
      "metadata": {
        "id": "KJjf5PSyUak9"
      },
      "source": [
        "**Building a random forest on given dataset using the default values for the RF parameters and all the features.**"
      ]
    },
    {
      "cell_type": "code",
      "metadata": {
        "colab": {
          "base_uri": "https://localhost:8080/",
          "height": 300
        },
        "id": "PeiVZaiRVAsj",
        "outputId": "e33d48eb-b0e3-4020-d210-6ccc07eb6926"
      },
      "source": [
        "from sklearn.ensemble import RandomForestClassifier\n",
        "from sklearn.metrics import confusion_matrix, ConfusionMatrixDisplay\n",
        "\n",
        "#creating a RF model\n",
        "default_rf = RandomForestClassifier(n_jobs=-1)\n",
        "\n",
        "#fitting the model on train dataset\n",
        "default_rf.fit(X_train,y_train)\n",
        "\n",
        "#computing the prediction and confusion matrix\n",
        "prediction_default = default_rf.predict(X_test)\n",
        "cm_defaultRF = confusion_matrix(prediction_default,y_test)\n",
        "displayCM = ConfusionMatrixDisplay(confusion_matrix=cm_defaultRF, display_labels=default_rf.classes_)\n",
        "displayCM.plot()\n",
        "\n",
        "#computing accuracy\n",
        "accuracy_defaultRF=default_rf.score(X_test,y_test)\n",
        "print(\"Accuracy with default setting is:\", accuracy_defaultRF)"
      ],
      "execution_count": 16,
      "outputs": [
        {
          "output_type": "stream",
          "name": "stdout",
          "text": [
            "Accuracy with default setting is: 0.9375\n"
          ]
        },
        {
          "output_type": "display_data",
          "data": {
            "image/png": "[encoded data removed]",
            "text/plain": [
              "<Figure size 432x288 with 2 Axes>"
            ]
          },
          "metadata": {
            "needs_background": "light"
          }
        }
      ]
    },
    {
      "cell_type": "markdown",
      "metadata": {
        "id": "bBnrxOzFCRdu"
      },
      "source": [
        "For question 1, classifical random forest model classifier model was created with default settings as defined by Sklearn. The accuracy score was 93.75% for the given set of data. "
      ]
    },
    {
      "cell_type": "markdown",
      "metadata": {
        "id": "-Ptel0o0UjAU"
      },
      "source": [
        "**Calibrating the two parameters ( n_estimators  and  max_features ) using an approach based on either the oob error or cross validation.**"
      ]
    },
    {
      "cell_type": "code",
      "metadata": {
        "colab": {
          "base_uri": "https://localhost:8080/"
        },
        "id": "bWrMBqHoXJB-",
        "outputId": "88c359bf-19cb-414d-b5a2-ba51158fc297"
      },
      "source": [
        "# Step 1: create a grid with all the values that we will considers for the two paramters\n",
        "params={\n",
        "    'max_features':[0.2,0.3,0.4,0.5,0.6,0.7,0.8,0.9],\n",
        "    'n_estimators':[200,400,500,600]\n",
        "}\n",
        "# Step 2: use the grid to to search for the best couple of parameters\n",
        "from sklearn.model_selection import GridSearchCV\n",
        "tune_rf=RandomForestClassifier()\n",
        "\n",
        "B=6\n",
        "results_cv_rf=pd.DataFrame()\n",
        "for i in range(B):\n",
        "  rf_cv=GridSearchCV(estimator=tune_rf,param_grid=params,cv=3, n_jobs=-1)\n",
        "  rf_cv.fit(X_train, y_train) # Fit the CV search\n",
        "  if i==0: \n",
        "    results_cv_rf=pd.DataFrame(rf_cv.cv_results_)[[\"params\",\"mean_test_score\",\"std_test_score\"]]\n",
        "  else:\n",
        "    results_cv_rf[\"mean_test_score\"]=results_cv_rf[\"mean_test_score\"]+pd.DataFrame(rf_cv.cv_results_)[\"mean_test_score\"]\n",
        "    results_cv_rf[\"std_test_score\"]=results_cv_rf[\"std_test_score\"]+pd.DataFrame(rf_cv.cv_results_)[\"std_test_score\"]  \n",
        "  print(\"Progress: \",i+1,\"of\",B)\n",
        "        \n",
        "        \n",
        "\n",
        "results_cv_rf[\"mean_test_score\"]=results_cv_rf[\"mean_test_score\"]/B\n",
        "results_cv_rf[\"std_test_score\"]=results_cv_rf[\"std_test_score\"]/B \n",
        "\n",
        "\n",
        "# Step 3: get the best parameters (with the higher performance)\n",
        "ind_best=results_cv_rf[\"mean_test_score\"].idxmax()\n",
        "print(\"Best params: \",results_cv_rf[\"params\"].iloc[ind_best])\n",
        "print(\"Mean test score: \",results_cv_rf[\"mean_test_score\"].iloc[ind_best])\n",
        "print(\"Stdev. test score: \",results_cv_rf[\"std_test_score\"].iloc[ind_best])"
      ],
      "execution_count": 14,
      "outputs": [
        {
          "output_type": "stream",
          "name": "stdout",
          "text": [
            "Progress:  1 of 6\n",
            "Progress:  2 of 6\n",
            "Progress:  3 of 6\n",
            "Progress:  4 of 6\n",
            "Progress:  5 of 6\n",
            "Progress:  6 of 6\n",
            "Best params:  {'max_features': 0.9, 'n_estimators': 200}\n",
            "Mean test score:  0.9895833333333334\n",
            "Stdev. test score:  0.014731391274719738\n"
          ]
        }
      ]
    },
    {
      "cell_type": "markdown",
      "metadata": {
        "id": "WXDIrZ_CEgvQ"
      },
      "source": [
        "GridSearchCV library was used in Q2 to loop through a list of parameters for n_estimator as number of trees and max_features representing the maximum number of features that a indivial tree can take. As a result, with 0.9 features and 200 trees were evaluated as the best hyperparameter to be used. "
      ]
    },
    {
      "cell_type": "markdown",
      "metadata": {
        "id": "s4--ipz3Un1b"
      },
      "source": [
        "**Build a second random forest using the calibrated values for the two parameters.**"
      ]
    },
    {
      "cell_type": "code",
      "metadata": {
        "colab": {
          "base_uri": "https://localhost:8080/",
          "height": 300
        },
        "id": "FbYaqU8Aa_2h",
        "outputId": "47e50b88-d330-4268-f378-2e0b2fba93eb"
      },
      "source": [
        "# Step 1: create RF object\n",
        "rf_calib = RandomForestClassifier(n_jobs=-1, max_features=0.9, n_estimators=200)\n",
        "\n",
        "# Step 2: build the random forest on the train set by indicating the input data and the target variable \n",
        "rf_calib.fit(X_train, y_train)\n",
        "\n",
        "# Step 3: compute the accuracy and the confusion matrix\n",
        "predictions_rf_calib = rf_calib.predict(X_test) \n",
        "cm_rf_calib = confusion_matrix(predictions_rf_calib,y_test)\n",
        "disp_cm_rf_calib = ConfusionMatrixDisplay(confusion_matrix=cm_rf_calib,display_labels=rf_calib.classes_)\n",
        "disp_cm_rf_calib.plot() \n",
        "\n",
        "# Step 4: compute the accuracy\n",
        "accuracy_rf_calib = rf_calib.score(X_test,y_test)\n",
        "print(\"Accuracy Opt.: \",accuracy_rf_calib)"
      ],
      "execution_count": 18,
      "outputs": [
        {
          "output_type": "stream",
          "name": "stdout",
          "text": [
            "Accuracy Opt.:  1.0\n"
          ]
        },
        {
          "output_type": "display_data",
          "data": {
            "image/png": "[encoded data removed]",
            "text/plain": [
              "<Figure size 432x288 with 2 Axes>"
            ]
          },
          "metadata": {
            "needs_background": "light"
          }
        }
      ]
    },
    {
      "cell_type": "markdown",
      "metadata": {
        "id": "YL_1oyz2EkU1"
      },
      "source": [
        "When applying the hyperparamter values obtained from Q2, accuracy of 100% was achived in Q3."
      ]
    },
    {
      "cell_type": "markdown",
      "metadata": {
        "id": "4gdr-XzjUtfX"
      },
      "source": [
        "**Because there are lots of features and they are correlated, use the variable importance score to select a small subset of variables. Justify your choice.**"
      ]
    },
    {
      "cell_type": "code",
      "metadata": {
        "id": "H1hqJzFWbn5U"
      },
      "source": [
        "from sklearn.inspection import permutation_importance\n",
        "result_rf = permutation_importance(rf_calib, X_test, y_test, n_repeats=6, random_state=42, n_jobs=-1)\n",
        "sorted_idx = result_rf.importances_mean.argsort()\n",
        "invert_sorted_idx=sorted_idx[::-1][:9]"
      ],
      "execution_count": 20,
      "outputs": []
    },
    {
      "cell_type": "code",
      "metadata": {
        "colab": {
          "base_uri": "https://localhost:8080/",
          "height": 297
        },
        "id": "APYDYrulb1Zq",
        "outputId": "000d4fb3-52c0-4cb1-f95b-887f4d775303"
      },
      "source": [
        "fig, ax = plt.subplots()\n",
        "ax.boxplot(result_rf.importances[invert_sorted_idx].T,\n",
        "           vert=False, labels=X_test.columns[invert_sorted_idx])\n",
        "ax.set_title(\"Permutation Importances (test set)\")\n",
        "fig.tight_layout()\n",
        "plt.show()"
      ],
      "execution_count": 32,
      "outputs": [
        {
          "output_type": "display_data",
          "data": {
            "image/png": "[encoded data removed]",
            "text/plain": [
              "<Figure size 432x288 with 1 Axes>"
            ]
          },
          "metadata": {
            "needs_background": "light"
          }
        }
      ]
    },
    {
      "cell_type": "code",
      "metadata": {
        "colab": {
          "base_uri": "https://localhost:8080/"
        },
        "id": "6xMaLS_lLdLN",
        "outputId": "e16555e3-5584-4bab-b303-203f31002573"
      },
      "source": [
        "rf_calib.feature_importances_"
      ],
      "execution_count": 41,
      "outputs": [
        {
          "output_type": "execute_result",
          "data": {
            "text/plain": [
              "array([0.        , 0.00209877, 0.        , ..., 0.        , 0.        ,\n",
              "       0.        ])"
            ]
          },
          "metadata": {},
          "execution_count": 41
        }
      ]
    },
    {
      "cell_type": "markdown",
      "metadata": {
        "id": "e_Nl6SVMFogD"
      },
      "source": [
        "Permutation_importance was identified as a reliable technique for model inspection for any fitted estimator. But in the box plot,we were not able to interpret the result, first reason could be due to very less importance of each feature as show in the line above another I assume is due to large number of numebrs taken.\n",
        "So to ensure that these feature holds some importance, further a bar graph with finer details is plotted as shown in the graph below. It shows that the importance index is very low as they are distributed among large group."
      ]
    },
    {
      "cell_type": "code",
      "metadata": {
        "colab": {
          "base_uri": "https://localhost:8080/",
          "height": 746
        },
        "id": "k53o20PFKC4c",
        "outputId": "07244cc6-d9b2-49e9-944d-56224959fd18"
      },
      "source": [
        "y_ticks = np.arange(0, len(features_names))\n",
        "plt.figure(figsize=(12,10))\n",
        "fig, ax = plt.subplots(figsize=(16,10))\n",
        "ax.barh(y_ticks, rf_calib.feature_importances_)\n",
        "#ax.set_yticks(y_ticks)\n",
        "#ax.set_yticklabels(feature_names[sorted_idx])\n",
        "ax.set_title(\"Random Forest Feature Importances (MDI)\")\n",
        "fig.tight_layout()\n",
        "plt.show()"
      ],
      "execution_count": 42,
      "outputs": [
        {
          "output_type": "display_data",
          "data": {
            "text/plain": [
              "<Figure size 864x720 with 0 Axes>"
            ]
          },
          "metadata": {}
        },
        {
          "output_type": "display_data",
          "data": {
            "image/png": "[encoded data removed]",
            "text/plain": [
              "<Figure size 1152x720 with 1 Axes>"
            ]
          },
          "metadata": {
            "needs_background": "light"
          }
        }
      ]
    },
    {
      "cell_type": "code",
      "metadata": {
        "colab": {
          "base_uri": "https://localhost:8080/"
        },
        "id": "D1vAnTBDb_15",
        "outputId": "290ad4c6-c867-4083-8dc9-5b55f258ca54"
      },
      "source": [
        "print(\"Max importance: \",result_rf.importances.max())\n",
        "print(\"Min importance: \",result_rf.importances.min())\n",
        "print(\"Mean importance: \",result_rf.importances.mean())"
      ],
      "execution_count": 45,
      "outputs": [
        {
          "output_type": "stream",
          "name": "stdout",
          "text": [
            "Max importance:  0.0625\n",
            "Min importance:  0.0\n",
            "Mean importance:  4.513287117273252e-06\n"
          ]
        }
      ]
    },
    {
      "cell_type": "markdown",
      "metadata": {
        "id": "j5zt4joGU0e1"
      },
      "source": [
        "**Building a third random forest based only the selected subset of features.**"
      ]
    },
    {
      "cell_type": "code",
      "metadata": {
        "id": "0R_1X7v2cm_F"
      },
      "source": [
        "# BUILD SMALLER DATASET\n",
        "target_name = \"class\" # The response variable that we will consider\n",
        "features_names = X_test.columns[invert_sorted_idx] # extract features from index via columns\n",
        "\n",
        "X_subset, y_subset = srbct_data[features_names], srbct_data[target_name]\n",
        "X_train_subset, X_test_subset, y_train_subset, y_test_subset = train_test_split(X_subset, y_subset, random_state=42,test_size=0.25)"
      ],
      "execution_count": 46,
      "outputs": []
    },
    {
      "cell_type": "code",
      "metadata": {
        "colab": {
          "base_uri": "https://localhost:8080/",
          "height": 300
        },
        "id": "4H9vsdnAcuHr",
        "outputId": "991ae69c-74a5-469e-f2e8-4555e27bb530"
      },
      "source": [
        "# Step 1: create RF object\n",
        "rf_subset = RandomForestClassifier(n_jobs=-1, max_features=0.4, n_estimators=200)\n",
        "\n",
        "# Step 2: build the random forest on the train set by indicating the input data and the target variable \n",
        "rf_subset.fit(X_train_subset, y_train_subset)\n",
        "\n",
        "# Step 3: compute the accuracy and the confusion matrix\n",
        "predictions_subset = rf_subset.predict(X_test_subset) \n",
        "cm_subset = confusion_matrix(predictions_subset,y_test_subset)\n",
        "disp_subset = ConfusionMatrixDisplay(confusion_matrix=cm_subset,display_labels=rf_subset.classes_)\n",
        "disp_subset.plot() \n",
        "\n",
        "# Step 4: compute the accuracy\n",
        "accuracy_subset = rf_subset.score(X_test_subset,y_test_subset)\n",
        "print(\"Accuracy Opt. with Subset: \",accuracy_subset)"
      ],
      "execution_count": 47,
      "outputs": [
        {
          "output_type": "stream",
          "name": "stdout",
          "text": [
            "Accuracy Opt. with Subset:  0.75\n"
          ]
        },
        {
          "output_type": "display_data",
          "data": {
            "image/png": "[encoded data removed]",
            "text/plain": [
              "<Figure size 432x288 with 2 Axes>"
            ]
          },
          "metadata": {
            "needs_background": "light"
          }
        }
      ]
    },
    {
      "cell_type": "markdown",
      "metadata": {
        "id": "TicHpfW0Mkpz"
      },
      "source": [
        "Further in Q5, based on selected subset with different level of importance, a new random forest model was generated.This model ensured an accuracy of 75%."
      ]
    },
    {
      "cell_type": "markdown",
      "metadata": {
        "id": "o9SZ2cu7U62t"
      },
      "source": [
        "**Comparing all these models with a logistic regression.**"
      ]
    },
    {
      "cell_type": "code",
      "metadata": {
        "id": "bukN78cD5LDS",
        "colab": {
          "base_uri": "https://localhost:8080/"
        },
        "outputId": "fc0227be-70fa-47df-9b92-0266a38d7319"
      },
      "source": [
        "from sklearn.linear_model import LogisticRegression\n",
        "clf_lr = LogisticRegression(random_state=0,max_iter=600)\n",
        "clf_lr.fit(X_train, y_train)\n",
        "lr_pred = clf_lr.predict(X_test)\n",
        "accuracy_lr_pred = clf_lr.score(X_test,y_test)\n",
        "accuracy_lr_pred"
      ],
      "execution_count": 51,
      "outputs": [
        {
          "output_type": "execute_result",
          "data": {
            "text/plain": [
              "0.9375"
            ]
          },
          "metadata": {},
          "execution_count": 51
        }
      ]
    },
    {
      "cell_type": "markdown",
      "metadata": {
        "id": "cNoeWMISM1y0"
      },
      "source": [
        "Finally, to compare the performance of Random Forest with different setting to the performace of Logistic Regression, a Logistic Regression model with 600 iteration was generated. The accuracy of this model was similar to that of default Random Forest model."
      ]
    },
    {
      "cell_type": "code",
      "metadata": {
        "id": "qNbBwBvPdsCl",
        "colab": {
          "base_uri": "https://localhost:8080/"
        },
        "outputId": "c56b4065-3ef2-4cf2-820a-b0309d254f7c"
      },
      "source": [
        "#overall accuracy for different models\n",
        "print(\"Accuracy Default RF: \",accuracy_defaultRF)\n",
        "print(\"Accuracy Optimal Parameter RF: \",accuracy_rf_calib)\n",
        "print(\"Accuracy Optimal RF with 9 best features: \",accuracy_subset)\n",
        "print(\"Accuracy Logistic Regression: \",accuracy_lr_pred)"
      ],
      "execution_count": 49,
      "outputs": [
        {
          "output_type": "stream",
          "name": "stdout",
          "text": [
            "Accuracy Default RF:  0.9375\n",
            "Accuracy Optimal Parameter RF:  1.0\n",
            "Accuracy Optimal RF with 9 best features:  0.75\n",
            "Accuracy Logistic Regression:  0.9375\n"
          ]
        }
      ]
    },
    {
      "cell_type": "markdown",
      "metadata": {
        "id": "6Nxw6CAANbo7"
      },
      "source": [
        "Hence, highest accuracy for the given set of data was obtained by Random Forest model that used the optimal parameters evaluated by GridSearchCV library of Sklearn."
      ]
    },
    {
      "cell_type": "code",
      "metadata": {
        "id": "vprL6n03NqIl"
      },
      "source": [
        ""
      ],
      "execution_count": null,
      "outputs": []
    }
  ]
}