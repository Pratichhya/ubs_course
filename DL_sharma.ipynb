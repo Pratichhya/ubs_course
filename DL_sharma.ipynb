{
  "cells": [
    {
      "cell_type": "markdown",
      "metadata": {
        "id": "view-in-github",
        "colab_type": "text"
      },
      "source": [
        "<a href=\"https://colab.research.google.com/github/Pratichhya/ubs_course/blob/main/DL_sharma.ipynb\" target=\"_parent\"><img src=\"https://colab.research.google.com/assets/colab-badge.svg\" alt=\"Open In Colab\"/></a>"
      ]
    },
    {
      "cell_type": "markdown",
      "id": "a9101f1b-1da5-49c4-8827-77249355eedd",
      "metadata": {
        "id": "a9101f1b-1da5-49c4-8827-77249355eedd",
        "jp-MarkdownHeadingCollapsed": true,
        "tags": []
      },
      "source": [
        "# Deep Learning Assignment\n",
        "\n",
        "For this assignment, we were asked to train a deep learning model able to detect oil palm plantation in Planet images.\n",
        "This is a binary classification task where label `0` means there is no oil palm plantation in the image, and `1` indicates the presence of an oil palm plantation.\n",
        "\n",
        "Each image has a 3 meter spatial resolution, has 3 channels (RGB) and a size of 256 $\\times$ 256 pixels.\n",
        "\n",
        "\n",
        "You have access only to the train set, and we hold out an independent test set to evaluate your final classification performance (average F-Score).\n",
        "\n",
        "\n",
        "The dataset has been collected from [Kaggle](https://www.kaggle.com/c/widsdatathon2019/data), and was proposed in the Women in Data Science Datathon 2019."
      ]
    },
    {
      "cell_type": "markdown",
      "id": "5ced2dba-c555-4ab9-91ce-cb5bd6becf8e",
      "metadata": {
        "id": "5ced2dba-c555-4ab9-91ce-cb5bd6becf8e",
        "jp-MarkdownHeadingCollapsed": true,
        "tags": []
      },
      "source": [
        "## Reading the data\n",
        "\n",
        "The information on the training data is stored in the csv file `traindata.csv`."
      ]
    },
    {
      "cell_type": "code",
      "execution_count": null,
      "id": "04d1c7dd-7f36-4314-a068-eadeda9f2455",
      "metadata": {
        "id": "04d1c7dd-7f36-4314-a068-eadeda9f2455"
      },
      "outputs": [],
      "source": [
        "# import pandas as pd\n",
        "# train_df = pd.read_csv(os.path.join(\"traindata.csv\"))\n",
        "# train_df"
      ]
    },
    {
      "cell_type": "markdown",
      "id": "383d9502-149c-4ca6-bf1a-ccd77e1a355a",
      "metadata": {
        "id": "383d9502-149c-4ca6-bf1a-ccd77e1a355a"
      },
      "source": [
        "The ``img_id`` column indicates the relative path to the image and the ``has_oilpalm`` columns give the corresponding class index.\n",
        "\n",
        "Let us now dowload the data and train a simple Random Forest algorithm on the flatten representation of the training images.\n",
        "As the data are **big** (~12GB if we donwload them in a float64 numpy array), we will use here only a subset of the data."
      ]
    },
    {
      "cell_type": "code",
      "execution_count": null,
      "id": "d7faa219-abff-49c0-aeea-f7b979d8d890",
      "metadata": {
        "id": "d7faa219-abff-49c0-aeea-f7b979d8d890"
      },
      "outputs": [],
      "source": [
        "# !pip install rasterio"
      ]
    },
    {
      "cell_type": "code",
      "execution_count": null,
      "id": "ff799fa1-b230-4d20-8825-b729d6169f16",
      "metadata": {
        "id": "ff799fa1-b230-4d20-8825-b729d6169f16"
      },
      "outputs": [],
      "source": [
        "# import numpy as np\n",
        "# import rasterio\n",
        "\n",
        "# N = 500\n",
        "# #-- Getting the training dataset (X,y)\n",
        "# X = np.zeros((N,256*256*3), dtype=np.uint16)\n",
        "# y = np.zeros((N,), dtype=np.uint8)\n",
        "# train_rf_model = train_df.sample(n=N)\n",
        "# for n in tqdm(range(N)):\n",
        "#     # X[n,:] = rasterio.open(os.path.join(project_path,train_rf_model.iloc[n]['img_id'])).read().flatten()\n",
        "#     X[n,:] = rasterio.open(os.path.join(train_rf_model.iloc[n]['img_id'])).read().flatten()\n",
        "#     y[n] = train_rf_model.iloc[n]['has_oilpalm']"
      ]
    },
    {
      "cell_type": "code",
      "execution_count": null,
      "id": "4f7247ef-2c50-4a41-a65e-17a5dc3db96f",
      "metadata": {
        "id": "4f7247ef-2c50-4a41-a65e-17a5dc3db96f"
      },
      "outputs": [],
      "source": [
        "# #-- Training a RF model\n",
        "# from sklearn.ensemble import RandomForestClassifier\n",
        "# rf = RandomForestClassifier(n_estimators=100, max_features=100, max_depth=25, oob_score=True, n_jobs=-1)\n",
        "# rf.fit(X,y)\n",
        "# print('OOB error: ', rf.oob_score_)"
      ]
    },
    {
      "cell_type": "code",
      "execution_count": null,
      "id": "4212d4a8-e45a-40eb-8901-5b2f5afe471e",
      "metadata": {
        "id": "4212d4a8-e45a-40eb-8901-5b2f5afe471e"
      },
      "outputs": [],
      "source": [
        "#importing necessary packages\n",
        "import os\n",
        "import numpy as np\n",
        "import rasterio\n",
        "from tqdm.notebook import tqdm\n",
        "import pandas as pd\n",
        "import matplotlib.pyplot as plt\n",
        "import copy\n",
        "import time\n",
        "\n",
        "from skimage import exposure\n",
        "from sklearn.model_selection import train_test_split    # for creating validation set\n",
        "from sklearn.metrics import f1_score,accuracy_score\n",
        "from sklearn.metrics import confusion_matrix\n",
        "from sklearn.metrics import ConfusionMatrixDisplay\n",
        "\n",
        "# PyTorch package\n",
        "import torch \n",
        "import torchvision.transforms as transforms # transform data\n",
        "import torch.nn as nn # basic building block for neural neteorks\n",
        "import torch.nn.functional as F # import convolution functions like Relu\n",
        "import torch.optim as optim # optimzer\n",
        "from torch.utils.data import TensorDataset, DataLoader, random_split\n",
        "from torch.optim.lr_scheduler import _LRScheduler\n",
        "import torch.optim.lr_scheduler as lr_scheduler\n",
        "from collections import namedtuple #for handling resnet configuration \n",
        "from torchsummary import summary\n",
        "\n",
        "# project_path = \"private/ubs_prati/deeplearning/DL_finalAss\""
      ]
    },
    {
      "cell_type": "markdown",
      "id": "3d32a75e-14f2-4606-a8ea-8244b18eb6de",
      "metadata": {
        "jp-MarkdownHeadingCollapsed": true,
        "tags": [],
        "id": "3d32a75e-14f2-4606-a8ea-8244b18eb6de"
      },
      "source": [
        "## Loading the dataset\n",
        "\n",
        "Loading of the dataset was done as guided in the previous steps."
      ]
    },
    {
      "cell_type": "code",
      "execution_count": null,
      "id": "e3f47746-d2b1-49a9-a0f3-78f455e7fd76",
      "metadata": {
        "id": "e3f47746-d2b1-49a9-a0f3-78f455e7fd76"
      },
      "outputs": [],
      "source": [
        "train_df = pd.read_csv(os.path.join(\"traindata.csv\"))\n",
        "# train_df"
      ]
    },
    {
      "cell_type": "code",
      "execution_count": null,
      "id": "b983184f-12e9-4944-93ae-f796f963cc96",
      "metadata": {
        "colab": {
          "referenced_widgets": [
            "628fc1579db6430c8a29372a9520f479"
          ]
        },
        "id": "b983184f-12e9-4944-93ae-f796f963cc96",
        "outputId": "f1c74c74-742b-435b-f5b8-3135ca22ab2e"
      },
      "outputs": [
        {
          "data": {
            "application/vnd.jupyter.widget-view+json": {
              "model_id": "628fc1579db6430c8a29372a9520f479",
              "version_major": 2,
              "version_minor": 0
            },
            "text/plain": [
              "0it [00:00, ?it/s]"
            ]
          },
          "metadata": {},
          "output_type": "display_data"
        },
        {
          "name": "stderr",
          "output_type": "stream",
          "text": [
            "/usr/local/lib/python3.8/dist-packages/rasterio/__init__.py:220: NotGeoreferencedWarning: Dataset has no geotransform, gcps, or rpcs. The identity matrix be returned.\n",
            "  s = DatasetReader(path, driver=driver, sharing=sharing, **kwargs)\n"
          ]
        }
      ],
      "source": [
        "#seperating covariate and label dataset\n",
        "N = train_df.shape[0]\n",
        "X = np.zeros((N,3,256,256), dtype=np.float32)\n",
        "Y = np.zeros((N,), dtype=np.uint8)\n",
        "\n",
        "for index, row in tqdm(train_df.iterrows()):\n",
        "    X[index,:] = rasterio.open(row['img_id']).read()\n",
        "    Y[index] = row['has_oilpalm']"
      ]
    },
    {
      "cell_type": "code",
      "execution_count": null,
      "id": "f7124a8b-5273-4280-8619-ee5fe2fda634",
      "metadata": {
        "id": "f7124a8b-5273-4280-8619-ee5fe2fda634",
        "outputId": "25816227-39da-47c2-8348-5ad59f5b0b22"
      },
      "outputs": [
        {
          "name": "stdout",
          "output_type": "stream",
          "text": [
            "Shape of Covariate:(7677, 3, 256, 256)\n",
            "Shape of Label:(7677,)\n"
          ]
        }
      ],
      "source": [
        "#dataset shape\n",
        "print(f\"Shape of Covariate:{X.shape}\")\n",
        "print(f\"Shape of Label:{Y.shape}\")"
      ]
    },
    {
      "cell_type": "code",
      "execution_count": null,
      "id": "78cd563f-7a62-4a5d-96c8-7fbc209469a4",
      "metadata": {
        "id": "78cd563f-7a62-4a5d-96c8-7fbc209469a4",
        "outputId": "98ccddf2-8f40-47b3-eb2d-262fb5f063ce"
      },
      "outputs": [
        {
          "data": {
            "image/png": "[encoded data removed]",
            "text/plain": [
              "<Figure size 432x288 with 2 Axes>"
            ]
          },
          "metadata": {
            "needs_background": "light"
          },
          "output_type": "display_data"
        }
      ],
      "source": [
        "#Visualize the normalized data\n",
        "\n",
        "def visualize_data(data,label1,data2,label2 ):\n",
        "    f, axarr = plt.subplots(1,2)\n",
        "    \n",
        "    #histogram equalization\n",
        "    data = data[:, :, 0:3]\n",
        "    _ = data[:, :, 0].copy()\n",
        "    data[:, :, 0] = data[:, :, 2]\n",
        "    data[:, :, 2] = _\n",
        "    data = data.astype(float)\n",
        "    for i in range(data.shape[2]):\n",
        "        p2, p98 = np.percentile(data[:, :, i], (2, 98))\n",
        "        data[:, :, i] = exposure.rescale_intensity(data[:, :, i],\n",
        "                                                      in_range=(p2, p98))\n",
        "    #histogram equalization complete for data1\n",
        "    axarr[0].imshow(data)\n",
        "    axarr[0].set_title(f\"{label1}\")\n",
        "    data2 = data2[:, :, 0:3]\n",
        "    _ = data2[:, :, 0].copy()\n",
        "    data2[:, :, 0] = data2[:, :, 2]\n",
        "    data2[:, :, 2] = _\n",
        "    data2 = data2.astype(float)\n",
        "    for i in range(data2.shape[2]):\n",
        "        p2, p98 = np.percentile(data2[:, :, i], (2, 98))\n",
        "        data2[:, :, i] = exposure.rescale_intensity(data2[:, :, i],\n",
        "                                                      in_range=(p2, p98))\n",
        "    a=axarr[1]\n",
        "    im = axarr[1].imshow(data2)\n",
        "    a.set_title(f\"{label2}\")\n",
        "\n",
        "visualize_data(X[1,:,:,:].swapaxes(0,2),Y[1],X[14,:,:,:].swapaxes(0,2),Y[14] ) #Visualize Images Side by Side"
      ]
    },
    {
      "cell_type": "markdown",
      "id": "484e1231-be3a-409a-9a22-83a1a0bcb010",
      "metadata": {
        "id": "484e1231-be3a-409a-9a22-83a1a0bcb010"
      },
      "source": [
        "Above a specific function for visualization of available dataset was created so as to visualize them in more efficient manner. Concept of histogram equalization from image analysis is also included so that maintain contrast of the image."
      ]
    },
    {
      "cell_type": "markdown",
      "id": "cca992ea-7c2b-49bf-b421-243fc3eed531",
      "metadata": {
        "jp-MarkdownHeadingCollapsed": true,
        "tags": [],
        "id": "cca992ea-7c2b-49bf-b421-243fc3eed531"
      },
      "source": [
        "## Converting numpy to tensor data"
      ]
    },
    {
      "cell_type": "code",
      "execution_count": null,
      "id": "b2cbb92f-322d-49ca-821a-623f870a88f5",
      "metadata": {
        "id": "b2cbb92f-322d-49ca-821a-623f870a88f5",
        "outputId": "3932ad73-71d0-4571-99bd-a9e1b7999982"
      },
      "outputs": [
        {
          "data": {
            "text/plain": [
              "<torch._C.Generator at 0x7d65fe8b30>"
            ]
          },
          "execution_count": 7,
          "metadata": {},
          "output_type": "execute_result"
        }
      ],
      "source": [
        "#setting seed for reproducibility\n",
        "import random\n",
        "SEED = 1\n",
        "random.seed(SEED)\n",
        "torch.manual_seed(SEED)"
      ]
    },
    {
      "cell_type": "code",
      "execution_count": null,
      "id": "47536bdc-299a-4393-ab05-684fd00f62d9",
      "metadata": {
        "id": "47536bdc-299a-4393-ab05-684fd00f62d9"
      },
      "outputs": [],
      "source": [
        "#convert dataset to tensor\n",
        "\n",
        "tensor_x = torch.Tensor(X) \n",
        "tensor_y_float = torch.Tensor(Y)\n",
        "tensor_y=tensor_y_float.type(torch.LongTensor)\n",
        "tensor_dataset = TensorDataset(tensor_x,tensor_y) "
      ]
    },
    {
      "cell_type": "markdown",
      "id": "d2711233-950a-4bb2-aeb1-3be38300248f",
      "metadata": {
        "tags": [],
        "id": "d2711233-950a-4bb2-aeb1-3be38300248f"
      },
      "source": [
        "The initial idea was to treat the entire dataset for training purposes but later, being practical, I decided to divide the dataset to prepare, and validation set where later in data loader additional test_set can also be added in case needed.  "
      ]
    },
    {
      "cell_type": "code",
      "execution_count": null,
      "id": "077ad15c-1f67-49eb-a8cf-fba315eb960d",
      "metadata": {
        "id": "077ad15c-1f67-49eb-a8cf-fba315eb960d"
      },
      "outputs": [],
      "source": [
        "#splitting data to train and validation set\n",
        "VALID_RATIO = 0.9  #10% of the entire dataset is used as validation set whereas rest 90% is train set \n",
        "\n",
        "n_train_examples = int(len(tensor_dataset) * VALID_RATIO)\n",
        "n_valid_examples = len(tensor_dataset) - n_train_examples\n",
        "\n",
        "train_data, valid_data = random_split(tensor_dataset, \n",
        "                                           [n_train_examples, n_valid_examples])"
      ]
    },
    {
      "cell_type": "markdown",
      "id": "a1dc2526-f089-4da7-8bfe-5445bf4ce5d9",
      "metadata": {
        "id": "a1dc2526-f089-4da7-8bfe-5445bf4ce5d9"
      },
      "source": [
        "and then overwrite the validation transforms, making sure to do a deepcopy to stop this also changing the training data transforms."
      ]
    },
    {
      "cell_type": "code",
      "execution_count": null,
      "id": "8989fa08-8fae-494d-881e-70981b6835e3",
      "metadata": {
        "id": "8989fa08-8fae-494d-881e-70981b6835e3"
      },
      "outputs": [],
      "source": [
        "valid_data = copy.deepcopy(valid_data)"
      ]
    },
    {
      "cell_type": "code",
      "execution_count": null,
      "id": "bb34c8c1-adf2-4b41-9ca4-fa5069dc134e",
      "metadata": {
        "id": "bb34c8c1-adf2-4b41-9ca4-fa5069dc134e",
        "outputId": "448010de-8d1e-47fb-e93b-3adf54cea77b"
      },
      "outputs": [
        {
          "name": "stdout",
          "output_type": "stream",
          "text": [
            "Number of training examples: 6909\n",
            "Number of validation examples: 768\n"
          ]
        }
      ],
      "source": [
        "print(f'Number of training examples: {len(train_data)}')\n",
        "print(f'Number of validation examples: {len(valid_data)}')"
      ]
    },
    {
      "cell_type": "markdown",
      "id": "861215cf-168c-4eec-a5ba-89ef5230c755",
      "metadata": {
        "id": "861215cf-168c-4eec-a5ba-89ef5230c755"
      },
      "source": [
        "In this task, I thought of setting the batch size to 12, which is very uncommon compared to most of the tasks performed and discussed over the internet. It was also assumed that minimum size might make it difficult to find local minima, but since my data was not very large, I thought of sticking to the 12 batch size and observing the model's performance. "
      ]
    },
    {
      "cell_type": "code",
      "execution_count": null,
      "id": "31eafb10-aa26-4f2d-a386-ac428dc211bf",
      "metadata": {
        "id": "31eafb10-aa26-4f2d-a386-ac428dc211bf"
      },
      "outputs": [],
      "source": [
        "BATCH_SIZE = 12\n",
        "\n",
        "train_iterator = DataLoader(train_data, \n",
        "                                 shuffle = True, \n",
        "                                 batch_size = BATCH_SIZE)\n",
        "\n",
        "valid_iterator = DataLoader(valid_data, \n",
        "                                 batch_size = BATCH_SIZE)\n",
        "\n",
        "#if needed\n",
        "# test_iterator = data.DataLoader(test_data,batch_size = BATCH_SIZE) ###but here test_data should also be defined initially"
      ]
    },
    {
      "cell_type": "markdown",
      "id": "510ac59b-df19-448e-b1c8-a22c71a4849f",
      "metadata": {
        "id": "510ac59b-df19-448e-b1c8-a22c71a4849f"
      },
      "source": [
        "At the end of this section, we are ready with a dataset to train the model and a validation set. Since the dataset is imbalanced, I decided to keep a low validation data ratio. I cannot present any concrete answer, but I thought if I train my model with a large dataset. In the test phase, my dataset will encounter a similar set, thus increasing the accuracy of my model. "
      ]
    },
    {
      "cell_type": "markdown",
      "id": "f2e94742-8ff0-4da9-8fb0-74e86bfd3a90",
      "metadata": {
        "jp-MarkdownHeadingCollapsed": true,
        "tags": [],
        "id": "f2e94742-8ff0-4da9-8fb0-74e86bfd3a90"
      },
      "source": [
        "## Defining the network\n",
        "\n",
        "Based on several blogs on the internet, I realised that ResNet is one of the widely used models for classification tasks. Specifically, ResNet, as in most deep networks, is hard to train because of the vanishing gradient problem. But in the residual network, they have a solution to vanishing gradient as it introduced the concept of skip connection that helps resolve the issue. Also, it was very popular and said to be one of the efficient methods. Therefore, I decided to use and explore residual network (ResNet) models for this task.\n",
        "\n",
        "\n",
        "For completing this task I took guidance from this github page: https://github.com/bentrevett/pytorch-image-classification\n",
        "\n",
        "Conv layers are stacked one after another as in a simple traditional network, but here we will also have added original input to the output of a convolution block. This is called skip connection. Because some layers are getting skipped by setting all their weights to zero, the value will not reach tiny matters. \n",
        "\n",
        "I learned that the logic behind the Residual network is to make y=x, and it could be possible if we make f(x)=0. In a typical network, we learn from y, but in the residual network, we know from f(x), and our target is to make f(x) = 0, then only we can make input=output. "
      ]
    },
    {
      "cell_type": "code",
      "execution_count": null,
      "id": "ea24e8ea-768d-47a8-82ea-7bb5917f4645",
      "metadata": {
        "id": "ea24e8ea-768d-47a8-82ea-7bb5917f4645"
      },
      "outputs": [],
      "source": [
        "class ResNet(nn.Module):\n",
        "    def __init__(self, config, output_dim):\n",
        "        super().__init__()\n",
        "                \n",
        "        block, n_blocks, channels = config\n",
        "        self.in_channels = channels[0]\n",
        "            \n",
        "        assert len(n_blocks) == len(channels) == 4\n",
        "        \n",
        "        self.conv1 = nn.Conv2d(3, self.in_channels, kernel_size = 7, stride = 2, padding = 3, bias = False)\n",
        "        self.bn1 = nn.BatchNorm2d(self.in_channels)\n",
        "        self.relu = nn.ReLU(inplace = True)\n",
        "        self.maxpool = nn.MaxPool2d(kernel_size = 3, stride = 2, padding = 1)\n",
        "        \n",
        "        self.layer1 = self.get_resnet_layer(block, n_blocks[0], channels[0])\n",
        "        self.layer2 = self.get_resnet_layer(block, n_blocks[1], channels[1], stride = 2)\n",
        "        self.layer3 = self.get_resnet_layer(block, n_blocks[2], channels[2], stride = 2)\n",
        "        self.layer4 = self.get_resnet_layer(block, n_blocks[3], channels[3], stride = 2)\n",
        "        \n",
        "        self.avgpool = nn.AdaptiveAvgPool2d((1,1))\n",
        "        self.fc = nn.Linear(self.in_channels, output_dim)\n",
        "        \n",
        "    def get_resnet_layer(self, block, n_blocks, channels, stride = 1):\n",
        "    \n",
        "        layers = []\n",
        "        \n",
        "        if self.in_channels != block.expansion * channels:\n",
        "            downsample = True\n",
        "        else:\n",
        "            downsample = False\n",
        "        \n",
        "        layers.append(block(self.in_channels, channels, stride, downsample))\n",
        "        \n",
        "        for i in range(1, n_blocks):\n",
        "            layers.append(block(block.expansion * channels, channels))\n",
        "\n",
        "        self.in_channels = block.expansion * channels\n",
        "            \n",
        "        return nn.Sequential(*layers)\n",
        "        \n",
        "    def forward(self, x):\n",
        "        \n",
        "        x = self.conv1(x)\n",
        "        x = self.bn1(x)\n",
        "        x = self.relu(x)\n",
        "        x = self.maxpool(x)\n",
        "\n",
        "        x = self.layer1(x)\n",
        "        x = self.layer2(x)\n",
        "        x = self.layer3(x)\n",
        "        x = self.layer4(x)\n",
        "        \n",
        "        x = self.avgpool(x)\n",
        "        h = x.view(x.shape[0], -1)\n",
        "        x = self.fc(h)\n",
        "        \n",
        "        return x, h"
      ]
    },
    {
      "cell_type": "markdown",
      "id": "bf3dd44f-80f0-4057-a673-4a422f6130bb",
      "metadata": {
        "id": "bf3dd44f-80f0-4057-a673-4a422f6130bb"
      },
      "source": [
        "Our ResNet class defines the initial 7x7 convolutional layer, batch normalisation, a ReLU activation function, and a downsampling max-pooling layer are defined by our ResNet class. The four layers are then constructed using the provided configuration, config, which specifies the block to be used, the number of blocks in the layer, and the number of channels. The number of channels in a layer for the BasicBlock is the number of filters for both convolutional layers within the block."
      ]
    },
    {
      "cell_type": "code",
      "execution_count": null,
      "id": "254777c2-10f0-4e68-b69f-34b69e91adda",
      "metadata": {
        "id": "254777c2-10f0-4e68-b69f-34b69e91adda"
      },
      "outputs": [],
      "source": [
        "class BasicBlock(nn.Module):\n",
        "    \n",
        "    expansion = 1\n",
        "    \n",
        "    def __init__(self, in_channels, out_channels, stride = 1, downsample = False):\n",
        "        super().__init__()\n",
        "                \n",
        "        self.conv1 = nn.Conv2d(in_channels, out_channels, kernel_size = 3, \n",
        "                               stride = stride, padding = 1, bias = False)\n",
        "        self.bn1 = nn.BatchNorm2d(out_channels)\n",
        "        \n",
        "        self.conv2 = nn.Conv2d(out_channels, out_channels, kernel_size = 3, \n",
        "                               stride = 1, padding = 1, bias = False)\n",
        "        self.bn2 = nn.BatchNorm2d(out_channels)\n",
        "        \n",
        "        self.relu = nn.ReLU(inplace = True)\n",
        "        \n",
        "        if downsample:\n",
        "            conv = nn.Conv2d(in_channels, out_channels, kernel_size = 1, \n",
        "                             stride = stride, bias = False)\n",
        "            bn = nn.BatchNorm2d(out_channels)\n",
        "            downsample = nn.Sequential(conv, bn)\n",
        "        else:\n",
        "            downsample = None\n",
        "        \n",
        "        self.downsample = downsample\n",
        "        \n",
        "    def forward(self, x):\n",
        "        \n",
        "        i = x\n",
        "        \n",
        "        x = self.conv1(x)\n",
        "        x = self.bn1(x)\n",
        "        x = self.relu(x)\n",
        "        \n",
        "        x = self.conv2(x)\n",
        "        x = self.bn2(x)\n",
        "        \n",
        "        if self.downsample is not None:\n",
        "            i = self.downsample(i)\n",
        "                        \n",
        "        x += i\n",
        "        x = self.relu(x)\n",
        "        \n",
        "        return x"
      ]
    },
    {
      "cell_type": "markdown",
      "id": "1470bbce-4efa-4651-9f6e-ff514e7364d1",
      "metadata": {
        "id": "1470bbce-4efa-4651-9f6e-ff514e7364d1"
      },
      "source": [
        "The BasicBlock is made of two 3x3 convolutional layers. The first, conv1, has stride which varies depending on the layer (one in the first layer and two in the other layers), whilst the second, conv2, always has a stride of one. Each of the layers has a padding of one - this means before the filters are applied to the input image we add a single pixel, that is zero in every channel, around the entire image. Each convolutional layer is followed by a ReLU activation function and batch normalization.\n",
        "\n",
        "The BasicBlock has an expansion of one as the number of filters used by each of the convolutional layers within a block is the same."
      ]
    },
    {
      "cell_type": "markdown",
      "id": "6b5c54c7-f4bf-4164-8306-2f0193f2d54c",
      "metadata": {
        "id": "6b5c54c7-f4bf-4164-8306-2f0193f2d54c"
      },
      "source": [
        "namedtuple will store: the block class, the number of blocks in each layer, and the number of channels in each layer."
      ]
    },
    {
      "cell_type": "code",
      "execution_count": null,
      "id": "c36c7b2b-db67-4160-b50d-91f06cee8c16",
      "metadata": {
        "id": "c36c7b2b-db67-4160-b50d-91f06cee8c16"
      },
      "outputs": [],
      "source": [
        "ResNetConfig = namedtuple('ResNetConfig', ['block', 'n_blocks', 'channels'])"
      ]
    },
    {
      "cell_type": "markdown",
      "id": "d13b6c87-66b8-484f-ab10-67534b5c3625",
      "metadata": {
        "id": "d13b6c87-66b8-484f-ab10-67534b5c3625"
      },
      "source": [
        "In the following sections, I aim to compare the performance of the 2 ResNet models (ResNet18 and ResNet34) where ResNet18 has two blocks containing two 3x3 convolutional layers with 64 filters Resnet34 has three."
      ]
    },
    {
      "cell_type": "markdown",
      "id": "cca990c8-4169-451c-b5a4-cdf21880f123",
      "metadata": {
        "jp-MarkdownHeadingCollapsed": true,
        "tags": [],
        "id": "cca990c8-4169-451c-b5a4-cdf21880f123"
      },
      "source": [
        "## First Model : Resnet 18 \n",
        "\n",
        "The Resnet18 Model is a simple yet powerful model for classification tasks. Let us try with this model first and increase the depth of the network gradually. "
      ]
    },
    {
      "cell_type": "code",
      "execution_count": null,
      "id": "7e932af0-c3a7-4a6b-bb6f-9f5dcd0fb9df",
      "metadata": {
        "tags": [],
        "id": "7e932af0-c3a7-4a6b-bb6f-9f5dcd0fb9df"
      },
      "outputs": [],
      "source": [
        "resnet18_config = ResNetConfig(block = BasicBlock,\n",
        "                               n_blocks = [2,2,2,2],\n",
        "                               channels = [64, 128, 256, 512])"
      ]
    },
    {
      "cell_type": "code",
      "execution_count": null,
      "id": "cd14d471-4c11-4590-bd22-5012b0af0215",
      "metadata": {
        "id": "cd14d471-4c11-4590-bd22-5012b0af0215"
      },
      "outputs": [],
      "source": [
        "model = ResNet(resnet18_config, 2)"
      ]
    },
    {
      "cell_type": "markdown",
      "id": "43ddad75-def4-4c49-bb26-5f33e01ca360",
      "metadata": {
        "id": "43ddad75-def4-4c49-bb26-5f33e01ca360"
      },
      "source": [
        "We can also see the number of parameters in our model."
      ]
    },
    {
      "cell_type": "code",
      "execution_count": null,
      "id": "49a6083d-b4c9-495d-93d2-efbebb59264e",
      "metadata": {
        "id": "49a6083d-b4c9-495d-93d2-efbebb59264e",
        "outputId": "51962864-54d6-4026-cff6-3e342479a429"
      },
      "outputs": [
        {
          "name": "stdout",
          "output_type": "stream",
          "text": [
            "The model has 11,177,538 trainable parameters\n"
          ]
        }
      ],
      "source": [
        "def count_parameters(model):\n",
        "    return sum(p.numel() for p in model.parameters() if p.requires_grad)\n",
        "\n",
        "print(f'The model has {count_parameters(model):,} trainable parameters')"
      ]
    },
    {
      "cell_type": "code",
      "execution_count": null,
      "id": "2f53f862-b8aa-4769-aa06-bb1b978870b2",
      "metadata": {
        "id": "2f53f862-b8aa-4769-aa06-bb1b978870b2",
        "outputId": "0770032a-485f-428f-f739-3e5a0096aa34"
      },
      "outputs": [
        {
          "name": "stdout",
          "output_type": "stream",
          "text": [
            "----------------------------------------------------------------\n",
            "        Layer (type)               Output Shape         Param #\n",
            "================================================================\n",
            "            Conv2d-1         [-1, 64, 128, 128]           9,408\n",
            "       BatchNorm2d-2         [-1, 64, 128, 128]             128\n",
            "              ReLU-3         [-1, 64, 128, 128]               0\n",
            "         MaxPool2d-4           [-1, 64, 64, 64]               0\n",
            "            Conv2d-5           [-1, 64, 64, 64]          36,864\n",
            "       BatchNorm2d-6           [-1, 64, 64, 64]             128\n",
            "              ReLU-7           [-1, 64, 64, 64]               0\n",
            "            Conv2d-8           [-1, 64, 64, 64]          36,864\n",
            "       BatchNorm2d-9           [-1, 64, 64, 64]             128\n",
            "             ReLU-10           [-1, 64, 64, 64]               0\n",
            "       BasicBlock-11           [-1, 64, 64, 64]               0\n",
            "           Conv2d-12           [-1, 64, 64, 64]          36,864\n",
            "      BatchNorm2d-13           [-1, 64, 64, 64]             128\n",
            "             ReLU-14           [-1, 64, 64, 64]               0\n",
            "           Conv2d-15           [-1, 64, 64, 64]          36,864\n",
            "      BatchNorm2d-16           [-1, 64, 64, 64]             128\n",
            "             ReLU-17           [-1, 64, 64, 64]               0\n",
            "       BasicBlock-18           [-1, 64, 64, 64]               0\n",
            "           Conv2d-19          [-1, 128, 32, 32]          73,728\n",
            "      BatchNorm2d-20          [-1, 128, 32, 32]             256\n",
            "             ReLU-21          [-1, 128, 32, 32]               0\n",
            "           Conv2d-22          [-1, 128, 32, 32]         147,456\n",
            "      BatchNorm2d-23          [-1, 128, 32, 32]             256\n",
            "           Conv2d-24          [-1, 128, 32, 32]           8,192\n",
            "      BatchNorm2d-25          [-1, 128, 32, 32]             256\n",
            "             ReLU-26          [-1, 128, 32, 32]               0\n",
            "       BasicBlock-27          [-1, 128, 32, 32]               0\n",
            "           Conv2d-28          [-1, 128, 32, 32]         147,456\n",
            "      BatchNorm2d-29          [-1, 128, 32, 32]             256\n",
            "             ReLU-30          [-1, 128, 32, 32]               0\n",
            "           Conv2d-31          [-1, 128, 32, 32]         147,456\n",
            "      BatchNorm2d-32          [-1, 128, 32, 32]             256\n",
            "             ReLU-33          [-1, 128, 32, 32]               0\n",
            "       BasicBlock-34          [-1, 128, 32, 32]               0\n",
            "           Conv2d-35          [-1, 256, 16, 16]         294,912\n",
            "      BatchNorm2d-36          [-1, 256, 16, 16]             512\n",
            "             ReLU-37          [-1, 256, 16, 16]               0\n",
            "           Conv2d-38          [-1, 256, 16, 16]         589,824\n",
            "      BatchNorm2d-39          [-1, 256, 16, 16]             512\n",
            "           Conv2d-40          [-1, 256, 16, 16]          32,768\n",
            "      BatchNorm2d-41          [-1, 256, 16, 16]             512\n",
            "             ReLU-42          [-1, 256, 16, 16]               0\n",
            "       BasicBlock-43          [-1, 256, 16, 16]               0\n",
            "           Conv2d-44          [-1, 256, 16, 16]         589,824\n",
            "      BatchNorm2d-45          [-1, 256, 16, 16]             512\n",
            "             ReLU-46          [-1, 256, 16, 16]               0\n",
            "           Conv2d-47          [-1, 256, 16, 16]         589,824\n",
            "      BatchNorm2d-48          [-1, 256, 16, 16]             512\n",
            "             ReLU-49          [-1, 256, 16, 16]               0\n",
            "       BasicBlock-50          [-1, 256, 16, 16]               0\n",
            "           Conv2d-51            [-1, 512, 8, 8]       1,179,648\n",
            "      BatchNorm2d-52            [-1, 512, 8, 8]           1,024\n",
            "             ReLU-53            [-1, 512, 8, 8]               0\n",
            "           Conv2d-54            [-1, 512, 8, 8]       2,359,296\n",
            "      BatchNorm2d-55            [-1, 512, 8, 8]           1,024\n",
            "           Conv2d-56            [-1, 512, 8, 8]         131,072\n",
            "      BatchNorm2d-57            [-1, 512, 8, 8]           1,024\n",
            "             ReLU-58            [-1, 512, 8, 8]               0\n",
            "       BasicBlock-59            [-1, 512, 8, 8]               0\n",
            "           Conv2d-60            [-1, 512, 8, 8]       2,359,296\n",
            "      BatchNorm2d-61            [-1, 512, 8, 8]           1,024\n",
            "             ReLU-62            [-1, 512, 8, 8]               0\n",
            "           Conv2d-63            [-1, 512, 8, 8]       2,359,296\n",
            "      BatchNorm2d-64            [-1, 512, 8, 8]           1,024\n",
            "             ReLU-65            [-1, 512, 8, 8]               0\n",
            "       BasicBlock-66            [-1, 512, 8, 8]               0\n",
            "AdaptiveAvgPool2d-67            [-1, 512, 1, 1]               0\n",
            "           Linear-68                    [-1, 2]           1,026\n",
            "================================================================\n",
            "Total params: 11,177,538\n",
            "Trainable params: 11,177,538\n",
            "Non-trainable params: 0\n",
            "----------------------------------------------------------------\n",
            "Input size (MB): 0.75\n",
            "Forward/backward pass size (MB): 82.00\n",
            "Params size (MB): 42.64\n",
            "Estimated Total Size (MB): 125.39\n",
            "----------------------------------------------------------------\n"
          ]
        }
      ],
      "source": [
        "summary(model, input_size=(3,256, 256),device=\"cpu\")"
      ]
    },
    {
      "cell_type": "markdown",
      "id": "b46e86e8-1282-4f47-b194-5aa0c0b48fa7",
      "metadata": {
        "id": "b46e86e8-1282-4f47-b194-5aa0c0b48fa7"
      },
      "source": [
        "### Training the model"
      ]
    },
    {
      "cell_type": "markdown",
      "id": "0c17967b-0a8a-4926-8abd-888b65a60aa2",
      "metadata": {
        "id": "0c17967b-0a8a-4926-8abd-888b65a60aa2"
      },
      "source": [
        "We have defined above as learning rate finder to define a suitable learning rate for our model.\n",
        "\n",
        "How does the learning rate finder work? We give the finder our model, optimizer and criterion we want to use. However we give it an optimizer with a much lower learning rate than we are expecting to use. We then train the model on the batches of data from the training set - calculating the loss and updating the parameters. After each batch we increase the learning rate exponentially from the initial, extremely low learning rate to a learning rate we know will be too high. This repeats until our loss diverges (over 5x the best loss achieved) or we reach our defined maximum learning rate.\n",
        "\n",
        "At each batch we are recording the learning rate and the loss achieved on that batch. By plotting them against each other we can find a suitable learning rate"
      ]
    },
    {
      "cell_type": "code",
      "execution_count": null,
      "id": "d75b5ad1-cfbe-43db-95a5-192b2727f26d",
      "metadata": {
        "id": "d75b5ad1-cfbe-43db-95a5-192b2727f26d"
      },
      "outputs": [],
      "source": [
        "START_LR = 1e-7\n",
        "\n",
        "optimizer = optim.Adam(model.parameters(), lr=START_LR)\n",
        "\n",
        "device = torch.device('cuda' if torch.cuda.is_available() else 'cpu')\n",
        "\n",
        "criterion = nn.CrossEntropyLoss()\n",
        "\n",
        "model = model.to(device)\n",
        "criterion = criterion.to(device)"
      ]
    },
    {
      "cell_type": "code",
      "execution_count": null,
      "id": "f2c3ec57-fda6-4f63-90b5-6b7fc0cf83ae",
      "metadata": {
        "id": "f2c3ec57-fda6-4f63-90b5-6b7fc0cf83ae"
      },
      "outputs": [],
      "source": [
        "#defining a class that will help in finding learning rate\n",
        "class LRFinder:\n",
        "    def __init__(self, model, optimizer, criterion, device):\n",
        "        \n",
        "        self.optimizer = optimizer\n",
        "        self.model = model\n",
        "        self.criterion = criterion\n",
        "        self.device = device\n",
        "        \n",
        "        torch.save(model.state_dict(), 'init_params.pt')\n",
        "\n",
        "    def range_test(self, iterator, end_lr = 10, num_iter = 100, \n",
        "                   smooth_f = 0.05, diverge_th = 5):\n",
        "        \n",
        "        lrs = []\n",
        "        losses = []\n",
        "        best_loss = float('inf')\n",
        "\n",
        "        lr_scheduler = ExponentialLR(self.optimizer, end_lr, num_iter)\n",
        "        \n",
        "        iterator = IteratorWrapper(iterator)\n",
        "        \n",
        "        for iteration in range(num_iter):\n",
        "\n",
        "            loss = self._train_batch(iterator)\n",
        "\n",
        "            #update lr\n",
        "            lr_scheduler.step()\n",
        "            \n",
        "            lrs.append(lr_scheduler.get_lr()[0])\n",
        "\n",
        "            if iteration > 0:\n",
        "                loss = smooth_f * loss + (1 - smooth_f) * losses[-1]\n",
        "                \n",
        "            if loss < best_loss:\n",
        "                best_loss = loss\n",
        "\n",
        "            losses.append(loss)\n",
        "            \n",
        "            if loss > diverge_th * best_loss:\n",
        "                print(\"Stopping early, the loss has diverged\")\n",
        "                break\n",
        "                       \n",
        "        #reset model to initial parameters\n",
        "        model.load_state_dict(torch.load('init_params.pt'))\n",
        "                    \n",
        "        return lrs, losses\n",
        "\n",
        "    def _train_batch(self, iterator):\n",
        "        \n",
        "        self.model.train()\n",
        "        \n",
        "        self.optimizer.zero_grad()\n",
        "        \n",
        "        x, y = iterator.get_batch()\n",
        "        \n",
        "        x = x.to(self.device)\n",
        "        y = y.to(self.device)\n",
        "        \n",
        "        y_pred, _ = self.model(x)\n",
        "                \n",
        "        loss = self.criterion(y_pred, y)\n",
        "        \n",
        "        loss.backward()\n",
        "        \n",
        "        self.optimizer.step()\n",
        "        \n",
        "        return loss.item()\n",
        "class ExponentialLR(_LRScheduler):\n",
        "    def __init__(self, optimizer, end_lr, num_iter, last_epoch=-1):\n",
        "        self.end_lr = end_lr\n",
        "        self.num_iter = num_iter\n",
        "        super(ExponentialLR, self).__init__(optimizer, last_epoch)\n",
        "\n",
        "    def get_lr(self):\n",
        "        curr_iter = self.last_epoch + 1\n",
        "        r = curr_iter / self.num_iter\n",
        "        return [base_lr * (self.end_lr / base_lr) ** r for base_lr in self.base_lrs]\n",
        "\n",
        "class IteratorWrapper:\n",
        "    def __init__(self, iterator):\n",
        "        self.iterator = iterator\n",
        "        self._iterator = iter(iterator)\n",
        "\n",
        "    def __next__(self):\n",
        "        try:\n",
        "            inputs, labels = next(self._iterator)\n",
        "        except StopIteration:\n",
        "            self._iterator = iter(self.iterator)\n",
        "            inputs, labels, *_ = next(self._iterator)\n",
        "\n",
        "        return inputs, labels\n",
        "\n",
        "    def get_batch(self):\n",
        "        return next(self)"
      ]
    },
    {
      "cell_type": "code",
      "execution_count": null,
      "id": "c4330005-9e75-4d94-95d1-270b159706f8",
      "metadata": {
        "id": "c4330005-9e75-4d94-95d1-270b159706f8",
        "outputId": "8260fe17-380a-4a99-ea54-00225f190458"
      },
      "outputs": [
        {
          "name": "stdout",
          "output_type": "stream",
          "text": [
            "Stopping early, the loss has diverged\n"
          ]
        }
      ],
      "source": [
        "END_LR = 100\n",
        "NUM_ITER = 100\n",
        "\n",
        "lr_finder = LRFinder(model, optimizer, criterion, device)\n",
        "lrs, losses = lr_finder.range_test(train_iterator, END_LR, NUM_ITER)"
      ]
    },
    {
      "cell_type": "markdown",
      "id": "0ec3c1b5-dab3-44c1-9213-3aaf8a39bb37",
      "metadata": {
        "id": "0ec3c1b5-dab3-44c1-9213-3aaf8a39bb37"
      },
      "source": [
        "Next, we define a function to plot the results of the range test."
      ]
    },
    {
      "cell_type": "code",
      "execution_count": null,
      "id": "f7c0960e-9556-43e0-a56c-8a905575bf71",
      "metadata": {
        "id": "f7c0960e-9556-43e0-a56c-8a905575bf71"
      },
      "outputs": [],
      "source": [
        "def plot_lr_finder(lrs, losses, skip_start = 5, skip_end = 5):\n",
        "    \n",
        "    if skip_end == 0:\n",
        "        lrs = lrs[skip_start:]\n",
        "        losses = losses[skip_start:]\n",
        "    else:\n",
        "        lrs = lrs[skip_start:-skip_end]\n",
        "        losses = losses[skip_start:-skip_end]\n",
        "    \n",
        "    fig = plt.figure(figsize = (16,8))\n",
        "    ax = fig.add_subplot(1,1,1)\n",
        "    ax.plot(lrs, losses)\n",
        "    ax.set_xscale('log')\n",
        "    ax.set_xlabel('Learning rate')\n",
        "    ax.set_ylabel('Loss')\n",
        "    ax.grid(True, 'both', 'x')\n",
        "    plt.show()"
      ]
    },
    {
      "cell_type": "code",
      "execution_count": null,
      "id": "40b7efcc-76b3-4a32-953b-734ea9ed183b",
      "metadata": {
        "id": "40b7efcc-76b3-4a32-953b-734ea9ed183b",
        "outputId": "4007f289-027e-4076-af89-e0d83d39abed"
      },
      "outputs": [
        {
          "data": {
            "image/png": "[encoded data removed]",
            "text/plain": [
              "<Figure size 1152x576 with 1 Axes>"
            ]
          },
          "metadata": {
            "needs_background": "light"
          },
          "output_type": "display_data"
        }
      ],
      "source": [
        "plot_lr_finder(lrs, losses, skip_start = 20, skip_end = 20)"
      ]
    },
    {
      "cell_type": "markdown",
      "id": "78204b23-d64b-49e9-8406-d799313fde1f",
      "metadata": {
        "id": "78204b23-d64b-49e9-8406-d799313fde1f"
      },
      "source": [
        "As our learning rate was scaled up exponentially, we plotted it on a logarithmic scale. As we can see, the loss begins flat and then decreases rapidly before reaching a minimum and starting to increase.\n",
        "\n",
        "We use the learning rate found by the learning rate finder as the maximum learning rate - used in the final layer - whilst the remaining layers have a lower learning rate, gradually decreasing towards the input."
      ]
    },
    {
      "cell_type": "code",
      "execution_count": null,
      "id": "c992e7ea-d2e3-495e-b42a-a908890f5709",
      "metadata": {
        "id": "c992e7ea-d2e3-495e-b42a-a908890f5709"
      },
      "outputs": [],
      "source": [
        "FOUND_LR = 1e-3\n",
        "\n",
        "params = [\n",
        "          {'params': model.conv1.parameters(), 'lr': FOUND_LR / 10},\n",
        "          {'params': model.bn1.parameters(), 'lr': FOUND_LR / 10},\n",
        "          {'params': model.layer1.parameters(), 'lr': FOUND_LR / 8},\n",
        "          {'params': model.layer2.parameters(), 'lr': FOUND_LR / 6},\n",
        "          {'params': model.layer3.parameters(), 'lr': FOUND_LR / 4},\n",
        "          {'params': model.layer4.parameters(), 'lr': FOUND_LR / 2},\n",
        "          {'params': model.fc.parameters()}\n",
        "         ]\n",
        "\n",
        "\n",
        "optimizer = optim.Adam(params, lr = FOUND_LR)"
      ]
    },
    {
      "cell_type": "markdown",
      "id": "ad571807-6bab-42d9-88f3-ca97081e0e87",
      "metadata": {
        "id": "ad571807-6bab-42d9-88f3-ca97081e0e87"
      },
      "source": [
        "I have also used a learning rate scheduler, a PyTorch wrapper, around an optimizer that allows us to dynamically alter its learning rate during training.\n",
        "\n",
        "To set-up the learning rate scheduler we need the total number of steps that will occur during training. We simply get this by multiplying the number of epochs with the number of batches in the training iterator, i.e. number of parameter updates. We get the maximum learning rate for each parameter group and pass this to max_lr."
      ]
    },
    {
      "cell_type": "code",
      "execution_count": null,
      "id": "b6aae7d9-28c3-4486-b89c-36864713feec",
      "metadata": {
        "id": "b6aae7d9-28c3-4486-b89c-36864713feec"
      },
      "outputs": [],
      "source": [
        "EPOCHS = 20\n",
        "STEPS_PER_EPOCH = len(train_iterator)\n",
        "TOTAL_STEPS = EPOCHS * STEPS_PER_EPOCH\n",
        "\n",
        "MAX_LRS = [p['lr'] for p in optimizer.param_groups]\n",
        "\n",
        "scheduler = lr_scheduler.OneCycleLR(optimizer,\n",
        "                                    max_lr = MAX_LRS,\n",
        "                                    total_steps = TOTAL_STEPS)"
      ]
    },
    {
      "cell_type": "markdown",
      "id": "eb7db14a-cd39-4866-9580-e34de55f65c9",
      "metadata": {
        "id": "eb7db14a-cd39-4866-9580-e34de55f65c9"
      },
      "source": [
        "As per the requirement of the assignment performance of the model should be evaluated with F1 score along with the overall accuracy and loss of the model. Thus a function for computing F1 score was also introduced in the workflow below."
      ]
    },
    {
      "cell_type": "code",
      "execution_count": null,
      "id": "2cfee9ac-5dd9-4d66-9e4b-5696fbfa0d63",
      "metadata": {
        "id": "2cfee9ac-5dd9-4d66-9e4b-5696fbfa0d63"
      },
      "outputs": [],
      "source": [
        "label_values=['No Plam','Palm']\n",
        "epsilon=1e-8\n",
        "\n",
        "def calculate_acc_f1Score(y_pred, y):\n",
        "    with torch.no_grad():\n",
        "        y_pred = np.argmax(y_pred.data.cpu().numpy(), axis=1)\n",
        "        y = y.data.cpu().numpy()\n",
        "        accuracy=accuracy_score(y,y_pred)\n",
        "        f1=f1_score(y,y_pred,pos_label=1,zero_division=1)\n",
        "        #print(accuracy,)\n",
        "    return accuracy, f1"
      ]
    },
    {
      "cell_type": "markdown",
      "id": "04dc7e37-9c35-4e9e-a317-c1d858043167",
      "metadata": {
        "id": "04dc7e37-9c35-4e9e-a317-c1d858043167"
      },
      "source": [
        "The scheduler is updated by calling scheduler.step(). This should always be called after optimizer.step() or else the first learning rate of the scheduler will be skipped.\n",
        "\n",
        "Not all schedulers need to be called after each training batch, some are only called after each epoch. In that case, the scheduler does not need to be passed to the train function and can be called in the main training loop."
      ]
    },
    {
      "cell_type": "code",
      "execution_count": null,
      "id": "fc135b26-8a01-4fa7-a8e1-b682cb9e85ad",
      "metadata": {
        "id": "fc135b26-8a01-4fa7-a8e1-b682cb9e85ad"
      },
      "outputs": [],
      "source": [
        "def train(model, iterator, optimizer, criterion, scheduler, device):\n",
        "    \n",
        "    epoch_loss = 0\n",
        "    epoch_f1 = 0\n",
        "    epoch_acc = 0\n",
        "    \n",
        "    model.train()\n",
        "    \n",
        "    for (x, y) in iterator:\n",
        "        \n",
        "        x = x.to(device)\n",
        "        y = y.to(device)\n",
        "        \n",
        "        optimizer.zero_grad()\n",
        "                \n",
        "        y_pred, _ = model(x)\n",
        "        \n",
        "        loss = criterion(y_pred, y)\n",
        "        \n",
        "        acc, f1 = calculate_acc_f1Score(y_pred, y)\n",
        "        \n",
        "        loss.backward()\n",
        "        \n",
        "        optimizer.step()\n",
        "        \n",
        "        scheduler.step()\n",
        "        \n",
        "        epoch_loss += loss.item()\n",
        "        epoch_acc += acc.item()\n",
        "        epoch_f1 += f1.item()\n",
        "        \n",
        "    epoch_loss /= len(iterator)\n",
        "    epoch_acc /= len(iterator)\n",
        "    epoch_f1 /= len(iterator)\n",
        "        \n",
        "    return epoch_loss, epoch_acc, epoch_f1"
      ]
    },
    {
      "cell_type": "code",
      "execution_count": null,
      "id": "e9c2228a-97b9-426d-ac17-c6c174d09a5b",
      "metadata": {
        "id": "e9c2228a-97b9-426d-ac17-c6c174d09a5b"
      },
      "outputs": [],
      "source": [
        "def evaluate(model, iterator, criterion, device):\n",
        "    \n",
        "    epoch_loss = 0\n",
        "    epoch_acc = 0\n",
        "    epoch_f1 = 0\n",
        "    \n",
        "    #model.eval()    ## here i skipped the part of calling model.eval as it was initializing my loss as nan\n",
        "    \n",
        "    with torch.no_grad():\n",
        "        \n",
        "        for (x, y) in iterator:\n",
        "\n",
        "            x = x.to(device)\n",
        "            y = y.to(device)\n",
        "\n",
        "            y_pred, _ = model(x)\n",
        "\n",
        "            loss = criterion(y_pred, y)\n",
        "            #print(loss)\n",
        "\n",
        "            acc, f1 = calculate_acc_f1Score(y_pred, y)\n",
        "\n",
        "            epoch_loss += loss.item()\n",
        "            epoch_acc += acc.item()\n",
        "            epoch_f1 += f1.item()\n",
        "    #print(len(iterator))    \n",
        "    epoch_loss /= len(iterator)\n",
        "    epoch_acc /= len(iterator)\n",
        "    epoch_f1 /= len(iterator)\n",
        "        \n",
        "    return epoch_loss, epoch_acc, epoch_f1"
      ]
    },
    {
      "cell_type": "markdown",
      "id": "18855e3c-7619-4366-98fc-b78f323b6ae5",
      "metadata": {
        "id": "18855e3c-7619-4366-98fc-b78f323b6ae5"
      },
      "source": [
        "A simple function to keep record of number of epoch other than using tqdm was used in this task."
      ]
    },
    {
      "cell_type": "code",
      "execution_count": null,
      "id": "a79bd0ac-308e-4e16-a22a-e4bacf1069b5",
      "metadata": {
        "tags": [],
        "id": "a79bd0ac-308e-4e16-a22a-e4bacf1069b5"
      },
      "outputs": [],
      "source": [
        "def epoch_time(start_time, end_time):\n",
        "    elapsed_time = end_time - start_time\n",
        "    elapsed_mins = int(elapsed_time / 60)\n",
        "    elapsed_secs = int(elapsed_time - (elapsed_mins * 60))\n",
        "    return elapsed_mins, elapsed_secs"
      ]
    },
    {
      "cell_type": "code",
      "execution_count": null,
      "id": "29b98928-48a0-4cbe-84ec-5423ab037beb",
      "metadata": {
        "id": "29b98928-48a0-4cbe-84ec-5423ab037beb",
        "outputId": "55767fb6-b993-4b44-c00e-36b40799fc5d"
      },
      "outputs": [
        {
          "name": "stdout",
          "output_type": "stream",
          "text": [
            "Epoch: 01 | Epoch Time: 1m 34s\n",
            "\tTrain Loss: 0.313 | Train Acc :  87.62% | Train F1:  38.89%\n",
            "\tValid Loss: 0.273 | Valid Acc :  91.41% | Valid F1:  52.39%\n",
            "Epoch: 02 | Epoch Time: 1m 33s\n",
            "\tTrain Loss: 0.268 | Train Acc :  89.47% | Train F1:  43.59%\n",
            "\tValid Loss: 0.289 | Valid Acc :  91.67% | Valid F1:  58.64%\n",
            "Epoch: 03 | Epoch Time: 1m 33s\n",
            "\tTrain Loss: 0.263 | Train Acc :  90.34% | Train F1:  48.17%\n",
            "\tValid Loss: 0.262 | Valid Acc :  92.06% | Valid F1:  58.59%\n",
            "Epoch: 04 | Epoch Time: 1m 33s\n",
            "\tTrain Loss: 0.260 | Train Acc :  90.00% | Train F1:  47.55%\n",
            "\tValid Loss: 0.261 | Valid Acc :  90.36% | Valid F1:  54.66%\n",
            "Epoch: 05 | Epoch Time: 1m 34s\n",
            "\tTrain Loss: 0.245 | Train Acc :  90.63% | Train F1:  51.22%\n",
            "\tValid Loss: 0.356 | Valid Acc :  90.76% | Valid F1:  51.41%\n",
            "Epoch: 06 | Epoch Time: 1m 33s\n",
            "\tTrain Loss: 0.234 | Train Acc :  91.12% | Train F1:  54.33%\n",
            "\tValid Loss: 0.277 | Valid Acc :  91.41% | Valid F1:  56.00%\n",
            "Epoch: 07 | Epoch Time: 1m 32s\n",
            "\tTrain Loss: 0.223 | Train Acc :  91.28% | Train F1:  54.49%\n",
            "\tValid Loss: 0.282 | Valid Acc :  91.28% | Valid F1:  54.97%\n",
            "Epoch: 08 | Epoch Time: 1m 34s\n",
            "\tTrain Loss: 0.211 | Train Acc :  91.62% | Train F1:  57.37%\n",
            "\tValid Loss: 0.259 | Valid Acc :  92.58% | Valid F1:  61.49%\n",
            "Epoch: 09 | Epoch Time: 1m 32s\n",
            "\tTrain Loss: 0.200 | Train Acc :  92.29% | Train F1:  63.00%\n",
            "\tValid Loss: 0.294 | Valid Acc :  90.36% | Valid F1:  58.98%\n",
            "Epoch: 10 | Epoch Time: 1m 34s\n",
            "\tTrain Loss: 0.178 | Train Acc :  92.51% | Train F1:  65.39%\n",
            "\tValid Loss: 0.263 | Valid Acc :  91.93% | Valid F1:  62.65%\n",
            "Epoch: 11 | Epoch Time: 1m 32s\n",
            "\tTrain Loss: 0.144 | Train Acc :  93.89% | Train F1:  71.86%\n",
            "\tValid Loss: 0.302 | Valid Acc :  91.15% | Valid F1:  57.25%\n",
            "Epoch: 12 | Epoch Time: 1m 33s\n",
            "\tTrain Loss: 0.117 | Train Acc :  95.03% | Train F1:  77.68%\n",
            "\tValid Loss: 0.415 | Valid Acc :  91.67% | Valid F1:  61.39%\n",
            "Epoch: 13 | Epoch Time: 1m 35s\n",
            "\tTrain Loss: 0.099 | Train Acc :  95.96% | Train F1:  82.60%\n",
            "\tValid Loss: 0.386 | Valid Acc :  90.76% | Valid F1:  54.02%\n",
            "Epoch: 14 | Epoch Time: 1m 32s\n",
            "\tTrain Loss: 0.082 | Train Acc :  96.73% | Train F1:  84.52%\n",
            "\tValid Loss: 0.405 | Valid Acc :  90.23% | Valid F1:  54.16%\n",
            "Epoch: 15 | Epoch Time: 1m 32s\n",
            "\tTrain Loss: 0.068 | Train Acc :  97.41% | Train F1:  87.42%\n",
            "\tValid Loss: 0.428 | Valid Acc :  90.76% | Valid F1:  57.41%\n",
            "Epoch: 16 | Epoch Time: 1m 36s\n",
            "\tTrain Loss: 0.057 | Train Acc :  97.63% | Train F1:  88.59%\n",
            "\tValid Loss: 0.523 | Valid Acc :  91.15% | Valid F1:  60.62%\n",
            "Epoch: 17 | Epoch Time: 1m 32s\n",
            "\tTrain Loss: 0.049 | Train Acc :  97.79% | Train F1:  88.33%\n",
            "\tValid Loss: 0.567 | Valid Acc :  90.76% | Valid F1:  57.55%\n",
            "Epoch: 18 | Epoch Time: 1m 32s\n",
            "\tTrain Loss: 0.044 | Train Acc :  98.00% | Train F1:  91.05%\n",
            "\tValid Loss: 0.564 | Valid Acc :  90.62% | Valid F1:  57.56%\n",
            "Epoch: 19 | Epoch Time: 1m 33s\n",
            "\tTrain Loss: 0.036 | Train Acc :  98.32% | Train F1:  92.13%\n",
            "\tValid Loss: 0.632 | Valid Acc :  90.62% | Valid F1:  57.29%\n",
            "Epoch: 20 | Epoch Time: 1m 36s\n",
            "\tTrain Loss: 0.034 | Train Acc :  98.39% | Train F1:  92.84%\n",
            "\tValid Loss: 0.595 | Valid Acc :  90.49% | Valid F1:  55.73%\n"
          ]
        }
      ],
      "source": [
        "best_valid_f1 = float('inf')\n",
        "\n",
        "for epoch in range(EPOCHS):\n",
        "    \n",
        "    start_time = time.monotonic()\n",
        "    \n",
        "    train_loss, train_acc, train_f1 = train(model, train_iterator, optimizer, criterion, scheduler, device)\n",
        "    valid_loss, valid_acc, valid_f1 = evaluate(model, valid_iterator, criterion, device)\n",
        "        \n",
        "    if valid_f1 < best_valid_f1:\n",
        "        best_valid_f1 = valid_f1\n",
        "        torch.save(model.state_dict(), 'Resnet18_model.pt')\n",
        "\n",
        "    end_time = time.monotonic()\n",
        "\n",
        "    epoch_mins, epoch_secs = epoch_time(start_time, end_time)\n",
        "    \n",
        "    print(f'Epoch: {epoch+1:02} | Epoch Time: {epoch_mins}m {epoch_secs}s')\n",
        "    print(f'\\tTrain Loss: {train_loss:.3f} | Train Acc : {train_acc*100:6.2f}% | ' \\\n",
        "          f'Train F1: {train_f1*100:6.2f}%')\n",
        "    print(f'\\tValid Loss: {valid_loss:.3f} | Valid Acc : {valid_acc*100:6.2f}% | ' \\\n",
        "          f'Valid F1: {valid_f1*100:6.2f}%')"
      ]
    },
    {
      "cell_type": "markdown",
      "id": "b6195e0a-8761-4c37-8286-86983b0ad1b7",
      "metadata": {
        "id": "b6195e0a-8761-4c37-8286-86983b0ad1b7"
      },
      "source": [
        "As seen above, fair value for overall accuracy was achieved for both training and validation set but slightly different for the F1 score. Yet, a model with the highest validation f1 score was saved as Resnet_model.pt.\n",
        "\n",
        "F1 score was selected as an evaluation method in this case, primarily because we were asked to use it. Other than that, I think the information on this will give a better idea when dealing with a dataset that is not balanced."
      ]
    },
    {
      "cell_type": "markdown",
      "id": "657d0466-f32a-47b7-b723-9ee7ac1e0518",
      "metadata": {
        "jp-MarkdownHeadingCollapsed": true,
        "tags": [],
        "id": "657d0466-f32a-47b7-b723-9ee7ac1e0518"
      },
      "source": [
        "## Lets Try Second Model ResNET34\n",
        "\n",
        "With similar environment setting another architecture with slightly different structure was then evaluated for comparison i.e ResNet34.\n",
        "This model has the same architecture as above but consists of more layers and can extract features from much more depth. The Architecture diagram of the model looks like following:\n",
        "![image.png](attachment:a02ced9c-8d90-481f-8f36-34bd8e44a5df.png)"
      ]
    },
    {
      "cell_type": "code",
      "execution_count": null,
      "id": "56773a0d-4184-46d5-9d91-b113f7786aae",
      "metadata": {
        "id": "56773a0d-4184-46d5-9d91-b113f7786aae"
      },
      "outputs": [],
      "source": [
        "resnet34_config = ResNetConfig(block = BasicBlock,\n",
        "                               n_blocks = [3,4,6,3],\n",
        "                               channels = [64, 128, 256, 512])"
      ]
    },
    {
      "cell_type": "code",
      "execution_count": null,
      "id": "75af8b2a-974f-4ea1-8777-e31b3a6254f3",
      "metadata": {
        "id": "75af8b2a-974f-4ea1-8777-e31b3a6254f3",
        "outputId": "e4ce7d8f-47f5-445c-cd94-784e813803dc"
      },
      "outputs": [
        {
          "name": "stdout",
          "output_type": "stream",
          "text": [
            "The model has 21,285,698 trainable parameters\n"
          ]
        }
      ],
      "source": [
        "model = ResNet(resnet34_config, 2)\n",
        "def count_parameters(model):\n",
        "    return sum(p.numel() for p in model.parameters() if p.requires_grad)\n",
        "\n",
        "print(f'The model has {count_parameters(model):,} trainable parameters')"
      ]
    },
    {
      "cell_type": "code",
      "execution_count": null,
      "id": "69b6e628-4dff-4f6f-87ae-8cd1eebd1504",
      "metadata": {
        "id": "69b6e628-4dff-4f6f-87ae-8cd1eebd1504",
        "outputId": "eb83ed02-95e3-4d6c-fbd0-415738129ee5"
      },
      "outputs": [
        {
          "name": "stdout",
          "output_type": "stream",
          "text": [
            "----------------------------------------------------------------\n",
            "        Layer (type)               Output Shape         Param #\n",
            "================================================================\n",
            "            Conv2d-1         [-1, 64, 128, 128]           9,408\n",
            "       BatchNorm2d-2         [-1, 64, 128, 128]             128\n",
            "              ReLU-3         [-1, 64, 128, 128]               0\n",
            "         MaxPool2d-4           [-1, 64, 64, 64]               0\n",
            "            Conv2d-5           [-1, 64, 64, 64]          36,864\n",
            "       BatchNorm2d-6           [-1, 64, 64, 64]             128\n",
            "              ReLU-7           [-1, 64, 64, 64]               0\n",
            "            Conv2d-8           [-1, 64, 64, 64]          36,864\n",
            "       BatchNorm2d-9           [-1, 64, 64, 64]             128\n",
            "             ReLU-10           [-1, 64, 64, 64]               0\n",
            "       BasicBlock-11           [-1, 64, 64, 64]               0\n",
            "           Conv2d-12           [-1, 64, 64, 64]          36,864\n",
            "      BatchNorm2d-13           [-1, 64, 64, 64]             128\n",
            "             ReLU-14           [-1, 64, 64, 64]               0\n",
            "           Conv2d-15           [-1, 64, 64, 64]          36,864\n",
            "      BatchNorm2d-16           [-1, 64, 64, 64]             128\n",
            "             ReLU-17           [-1, 64, 64, 64]               0\n",
            "       BasicBlock-18           [-1, 64, 64, 64]               0\n",
            "           Conv2d-19           [-1, 64, 64, 64]          36,864\n",
            "      BatchNorm2d-20           [-1, 64, 64, 64]             128\n",
            "             ReLU-21           [-1, 64, 64, 64]               0\n",
            "           Conv2d-22           [-1, 64, 64, 64]          36,864\n",
            "      BatchNorm2d-23           [-1, 64, 64, 64]             128\n",
            "             ReLU-24           [-1, 64, 64, 64]               0\n",
            "       BasicBlock-25           [-1, 64, 64, 64]               0\n",
            "           Conv2d-26          [-1, 128, 32, 32]          73,728\n",
            "      BatchNorm2d-27          [-1, 128, 32, 32]             256\n",
            "             ReLU-28          [-1, 128, 32, 32]               0\n",
            "           Conv2d-29          [-1, 128, 32, 32]         147,456\n",
            "      BatchNorm2d-30          [-1, 128, 32, 32]             256\n",
            "           Conv2d-31          [-1, 128, 32, 32]           8,192\n",
            "      BatchNorm2d-32          [-1, 128, 32, 32]             256\n",
            "             ReLU-33          [-1, 128, 32, 32]               0\n",
            "       BasicBlock-34          [-1, 128, 32, 32]               0\n",
            "           Conv2d-35          [-1, 128, 32, 32]         147,456\n",
            "      BatchNorm2d-36          [-1, 128, 32, 32]             256\n",
            "             ReLU-37          [-1, 128, 32, 32]               0\n",
            "           Conv2d-38          [-1, 128, 32, 32]         147,456\n",
            "      BatchNorm2d-39          [-1, 128, 32, 32]             256\n",
            "             ReLU-40          [-1, 128, 32, 32]               0\n",
            "       BasicBlock-41          [-1, 128, 32, 32]               0\n",
            "           Conv2d-42          [-1, 128, 32, 32]         147,456\n",
            "      BatchNorm2d-43          [-1, 128, 32, 32]             256\n",
            "             ReLU-44          [-1, 128, 32, 32]               0\n",
            "           Conv2d-45          [-1, 128, 32, 32]         147,456\n",
            "      BatchNorm2d-46          [-1, 128, 32, 32]             256\n",
            "             ReLU-47          [-1, 128, 32, 32]               0\n",
            "       BasicBlock-48          [-1, 128, 32, 32]               0\n",
            "           Conv2d-49          [-1, 128, 32, 32]         147,456\n",
            "      BatchNorm2d-50          [-1, 128, 32, 32]             256\n",
            "             ReLU-51          [-1, 128, 32, 32]               0\n",
            "           Conv2d-52          [-1, 128, 32, 32]         147,456\n",
            "      BatchNorm2d-53          [-1, 128, 32, 32]             256\n",
            "             ReLU-54          [-1, 128, 32, 32]               0\n",
            "       BasicBlock-55          [-1, 128, 32, 32]               0\n",
            "           Conv2d-56          [-1, 256, 16, 16]         294,912\n",
            "      BatchNorm2d-57          [-1, 256, 16, 16]             512\n",
            "             ReLU-58          [-1, 256, 16, 16]               0\n",
            "           Conv2d-59          [-1, 256, 16, 16]         589,824\n",
            "      BatchNorm2d-60          [-1, 256, 16, 16]             512\n",
            "           Conv2d-61          [-1, 256, 16, 16]          32,768\n",
            "      BatchNorm2d-62          [-1, 256, 16, 16]             512\n",
            "             ReLU-63          [-1, 256, 16, 16]               0\n",
            "       BasicBlock-64          [-1, 256, 16, 16]               0\n",
            "           Conv2d-65          [-1, 256, 16, 16]         589,824\n",
            "      BatchNorm2d-66          [-1, 256, 16, 16]             512\n",
            "             ReLU-67          [-1, 256, 16, 16]               0\n",
            "           Conv2d-68          [-1, 256, 16, 16]         589,824\n",
            "      BatchNorm2d-69          [-1, 256, 16, 16]             512\n",
            "             ReLU-70          [-1, 256, 16, 16]               0\n",
            "       BasicBlock-71          [-1, 256, 16, 16]               0\n",
            "           Conv2d-72          [-1, 256, 16, 16]         589,824\n",
            "      BatchNorm2d-73          [-1, 256, 16, 16]             512\n",
            "             ReLU-74          [-1, 256, 16, 16]               0\n",
            "           Conv2d-75          [-1, 256, 16, 16]         589,824\n",
            "      BatchNorm2d-76          [-1, 256, 16, 16]             512\n",
            "             ReLU-77          [-1, 256, 16, 16]               0\n",
            "       BasicBlock-78          [-1, 256, 16, 16]               0\n",
            "           Conv2d-79          [-1, 256, 16, 16]         589,824\n",
            "      BatchNorm2d-80          [-1, 256, 16, 16]             512\n",
            "             ReLU-81          [-1, 256, 16, 16]               0\n",
            "           Conv2d-82          [-1, 256, 16, 16]         589,824\n",
            "      BatchNorm2d-83          [-1, 256, 16, 16]             512\n",
            "             ReLU-84          [-1, 256, 16, 16]               0\n",
            "       BasicBlock-85          [-1, 256, 16, 16]               0\n",
            "           Conv2d-86          [-1, 256, 16, 16]         589,824\n",
            "      BatchNorm2d-87          [-1, 256, 16, 16]             512\n",
            "             ReLU-88          [-1, 256, 16, 16]               0\n",
            "           Conv2d-89          [-1, 256, 16, 16]         589,824\n",
            "      BatchNorm2d-90          [-1, 256, 16, 16]             512\n",
            "             ReLU-91          [-1, 256, 16, 16]               0\n",
            "       BasicBlock-92          [-1, 256, 16, 16]               0\n",
            "           Conv2d-93          [-1, 256, 16, 16]         589,824\n",
            "      BatchNorm2d-94          [-1, 256, 16, 16]             512\n",
            "             ReLU-95          [-1, 256, 16, 16]               0\n",
            "           Conv2d-96          [-1, 256, 16, 16]         589,824\n",
            "      BatchNorm2d-97          [-1, 256, 16, 16]             512\n",
            "             ReLU-98          [-1, 256, 16, 16]               0\n",
            "       BasicBlock-99          [-1, 256, 16, 16]               0\n",
            "          Conv2d-100            [-1, 512, 8, 8]       1,179,648\n",
            "     BatchNorm2d-101            [-1, 512, 8, 8]           1,024\n",
            "            ReLU-102            [-1, 512, 8, 8]               0\n",
            "          Conv2d-103            [-1, 512, 8, 8]       2,359,296\n",
            "     BatchNorm2d-104            [-1, 512, 8, 8]           1,024\n",
            "          Conv2d-105            [-1, 512, 8, 8]         131,072\n",
            "     BatchNorm2d-106            [-1, 512, 8, 8]           1,024\n",
            "            ReLU-107            [-1, 512, 8, 8]               0\n",
            "      BasicBlock-108            [-1, 512, 8, 8]               0\n",
            "          Conv2d-109            [-1, 512, 8, 8]       2,359,296\n",
            "     BatchNorm2d-110            [-1, 512, 8, 8]           1,024\n",
            "            ReLU-111            [-1, 512, 8, 8]               0\n",
            "          Conv2d-112            [-1, 512, 8, 8]       2,359,296\n",
            "     BatchNorm2d-113            [-1, 512, 8, 8]           1,024\n",
            "            ReLU-114            [-1, 512, 8, 8]               0\n",
            "      BasicBlock-115            [-1, 512, 8, 8]               0\n",
            "          Conv2d-116            [-1, 512, 8, 8]       2,359,296\n",
            "     BatchNorm2d-117            [-1, 512, 8, 8]           1,024\n",
            "            ReLU-118            [-1, 512, 8, 8]               0\n",
            "          Conv2d-119            [-1, 512, 8, 8]       2,359,296\n",
            "     BatchNorm2d-120            [-1, 512, 8, 8]           1,024\n",
            "            ReLU-121            [-1, 512, 8, 8]               0\n",
            "      BasicBlock-122            [-1, 512, 8, 8]               0\n",
            "AdaptiveAvgPool2d-123            [-1, 512, 1, 1]               0\n",
            "          Linear-124                    [-1, 2]           1,026\n",
            "================================================================\n",
            "Total params: 21,285,698\n",
            "Trainable params: 21,285,698\n",
            "Non-trainable params: 0\n",
            "----------------------------------------------------------------\n",
            "Input size (MB): 0.75\n",
            "Forward/backward pass size (MB): 125.75\n",
            "Params size (MB): 81.20\n",
            "Estimated Total Size (MB): 207.70\n",
            "----------------------------------------------------------------\n"
          ]
        }
      ],
      "source": [
        "summary(model, input_size=(3,256, 256), device='cpu')"
      ]
    },
    {
      "cell_type": "markdown",
      "id": "018ac860-6413-40aa-8e5e-eeced8c0175d",
      "metadata": {
        "tags": [],
        "id": "018ac860-6413-40aa-8e5e-eeced8c0175d"
      },
      "source": [
        "### Training Resnet34 Model"
      ]
    },
    {
      "cell_type": "code",
      "execution_count": null,
      "id": "c2dac4cd-9330-430e-9d23-0cb2c9f5d407",
      "metadata": {
        "id": "c2dac4cd-9330-430e-9d23-0cb2c9f5d407"
      },
      "outputs": [],
      "source": [
        "START_LR = 1e-7\n",
        "\n",
        "optimizer = optim.Adam(model.parameters(), lr=START_LR)\n",
        "\n",
        "device = torch.device('cuda' if torch.cuda.is_available() else 'cpu')\n",
        "\n",
        "criterion = nn.CrossEntropyLoss()\n",
        "\n",
        "model = model.to(device)\n",
        "criterion = criterion.to(device)"
      ]
    },
    {
      "cell_type": "code",
      "execution_count": null,
      "id": "5fb77e5e-f7a5-440f-9e5c-6c9f049c1df3",
      "metadata": {
        "id": "5fb77e5e-f7a5-440f-9e5c-6c9f049c1df3",
        "outputId": "3a7d478e-ae80-4d50-ac43-2c7ca5348197"
      },
      "outputs": [
        {
          "name": "stdout",
          "output_type": "stream",
          "text": [
            "Stopping early, the loss has diverged\n"
          ]
        },
        {
          "data": {
            "image/png": "[encoded data removed]",
            "text/plain": [
              "<Figure size 1152x576 with 1 Axes>"
            ]
          },
          "metadata": {
            "needs_background": "light"
          },
          "output_type": "display_data"
        }
      ],
      "source": [
        "END_LR = 100\n",
        "NUM_ITER = 100\n",
        "\n",
        "lr_finder = LRFinder(model, optimizer, criterion, device)\n",
        "lrs, losses = lr_finder.range_test(train_iterator, END_LR, NUM_ITER)\n",
        "plot_lr_finder(lrs, losses, skip_start = 20, skip_end = 20)"
      ]
    },
    {
      "cell_type": "code",
      "execution_count": null,
      "id": "2dc489fd-d38c-4d94-9505-241118b4d605",
      "metadata": {
        "id": "2dc489fd-d38c-4d94-9505-241118b4d605"
      },
      "outputs": [],
      "source": [
        "FOUND_LR = 1e-4\n",
        "\n",
        "params = [\n",
        "          {'params': model.conv1.parameters(), 'lr': FOUND_LR / 10},\n",
        "          {'params': model.bn1.parameters(), 'lr': FOUND_LR / 10},\n",
        "          {'params': model.layer1.parameters(), 'lr': FOUND_LR / 8},\n",
        "          {'params': model.layer2.parameters(), 'lr': FOUND_LR / 6},\n",
        "          {'params': model.layer3.parameters(), 'lr': FOUND_LR / 4},\n",
        "          {'params': model.layer4.parameters(), 'lr': FOUND_LR / 2},\n",
        "          {'params': model.fc.parameters()}\n",
        "         ]\n",
        "\n",
        "\n",
        "optimizer = optim.Adam(params, lr = FOUND_LR)"
      ]
    },
    {
      "cell_type": "code",
      "execution_count": null,
      "id": "d9709180-12ea-4c13-a67e-1c2b3e567915",
      "metadata": {
        "id": "d9709180-12ea-4c13-a67e-1c2b3e567915"
      },
      "outputs": [],
      "source": [
        "EPOCHS = 20\n",
        "STEPS_PER_EPOCH = len(train_iterator)\n",
        "TOTAL_STEPS = EPOCHS * STEPS_PER_EPOCH\n",
        "\n",
        "MAX_LRS = [p['lr'] for p in optimizer.param_groups]\n",
        "\n",
        "scheduler = lr_scheduler.OneCycleLR(optimizer,\n",
        "                                    max_lr = MAX_LRS,\n",
        "                                    total_steps = TOTAL_STEPS)"
      ]
    },
    {
      "cell_type": "code",
      "execution_count": null,
      "id": "b3c7fffe-ce55-4980-ba18-20bdc5c71c8a",
      "metadata": {
        "id": "b3c7fffe-ce55-4980-ba18-20bdc5c71c8a",
        "outputId": "27d0385b-c5c6-46fb-a263-054728f6e8d3"
      },
      "outputs": [
        {
          "name": "stdout",
          "output_type": "stream",
          "text": [
            "Epoch: 01 | Epoch Time: 2m 31s\n",
            "\tTrain Loss: 0.363 | Train Acc :  85.92% | Train F1:  25.33%\n",
            "\tValid Loss: 0.303 | Valid Acc :  87.76% | Valid F1:  30.42%\n",
            "Epoch: 02 | Epoch Time: 2m 29s\n",
            "\tTrain Loss: 0.286 | Train Acc :  88.87% | Train F1:  39.39%\n",
            "\tValid Loss: 0.279 | Valid Acc :  89.45% | Valid F1:  47.81%\n",
            "Epoch: 03 | Epoch Time: 2m 29s\n",
            "\tTrain Loss: 0.270 | Train Acc :  89.54% | Train F1:  43.80%\n",
            "\tValid Loss: 0.276 | Valid Acc :  89.19% | Valid F1:  43.18%\n",
            "Epoch: 04 | Epoch Time: 2m 29s\n",
            "\tTrain Loss: 0.256 | Train Acc :  90.06% | Train F1:  46.80%\n",
            "\tValid Loss: 0.265 | Valid Acc :  89.71% | Valid F1:  48.34%\n",
            "Epoch: 05 | Epoch Time: 2m 30s\n",
            "\tTrain Loss: 0.242 | Train Acc :  90.39% | Train F1:  50.32%\n",
            "\tValid Loss: 0.289 | Valid Acc :  88.41% | Valid F1:  51.78%\n",
            "Epoch: 06 | Epoch Time: 2m 29s\n",
            "\tTrain Loss: 0.210 | Train Acc :  91.60% | Train F1:  58.08%\n",
            "\tValid Loss: 0.277 | Valid Acc :  89.97% | Valid F1:  53.07%\n",
            "Epoch: 07 | Epoch Time: 2m 29s\n",
            "\tTrain Loss: 0.179 | Train Acc :  93.34% | Train F1:  68.03%\n",
            "\tValid Loss: 0.380 | Valid Acc :  88.28% | Valid F1:  49.42%\n",
            "Epoch: 08 | Epoch Time: 2m 29s\n",
            "\tTrain Loss: 0.136 | Train Acc :  94.75% | Train F1:  75.52%\n",
            "\tValid Loss: 0.340 | Valid Acc :  88.28% | Valid F1:  43.18%\n",
            "Epoch: 09 | Epoch Time: 2m 30s\n",
            "\tTrain Loss: 0.111 | Train Acc :  95.83% | Train F1:  79.77%\n",
            "\tValid Loss: 0.404 | Valid Acc :  88.15% | Valid F1:  41.70%\n",
            "Epoch: 10 | Epoch Time: 2m 29s\n",
            "\tTrain Loss: 0.097 | Train Acc :  96.35% | Train F1:  82.13%\n",
            "\tValid Loss: 0.415 | Valid Acc :  88.54% | Valid F1:  44.17%\n",
            "Epoch: 11 | Epoch Time: 2m 29s\n",
            "\tTrain Loss: 0.078 | Train Acc :  97.41% | Train F1:  89.09%\n",
            "\tValid Loss: 0.436 | Valid Acc :  88.93% | Valid F1:  44.84%\n",
            "Epoch: 12 | Epoch Time: 2m 29s\n",
            "\tTrain Loss: 0.070 | Train Acc :  97.44% | Train F1:  87.15%\n",
            "\tValid Loss: 0.410 | Valid Acc :  89.06% | Valid F1:  49.03%\n",
            "Epoch: 13 | Epoch Time: 2m 29s\n",
            "\tTrain Loss: 0.056 | Train Acc :  97.82% | Train F1:  89.23%\n",
            "\tValid Loss: 0.442 | Valid Acc :  89.97% | Valid F1:  52.91%\n",
            "Epoch: 14 | Epoch Time: 2m 29s\n",
            "\tTrain Loss: 0.051 | Train Acc :  97.95% | Train F1:  90.41%\n",
            "\tValid Loss: 0.453 | Valid Acc :  89.71% | Valid F1:  56.76%\n",
            "Epoch: 15 | Epoch Time: 2m 29s\n",
            "\tTrain Loss: 0.039 | Train Acc :  98.19% | Train F1:  90.84%\n",
            "\tValid Loss: 0.532 | Valid Acc :  89.58% | Valid F1:  52.98%\n",
            "Epoch: 16 | Epoch Time: 2m 29s\n",
            "\tTrain Loss: 0.035 | Train Acc :  98.22% | Train F1:  91.63%\n",
            "\tValid Loss: 0.511 | Valid Acc :  89.32% | Valid F1:  52.91%\n",
            "Epoch: 17 | Epoch Time: 2m 29s\n",
            "\tTrain Loss: 0.032 | Train Acc :  98.33% | Train F1:  91.53%\n",
            "\tValid Loss: 0.533 | Valid Acc :  89.58% | Valid F1:  51.19%\n",
            "Epoch: 18 | Epoch Time: 2m 29s\n",
            "\tTrain Loss: 0.029 | Train Acc :  98.37% | Train F1:  91.82%\n",
            "\tValid Loss: 0.549 | Valid Acc :  88.67% | Valid F1:  45.77%\n",
            "Epoch: 19 | Epoch Time: 2m 29s\n",
            "\tTrain Loss: 0.028 | Train Acc :  98.49% | Train F1:  92.60%\n",
            "\tValid Loss: 0.553 | Valid Acc :  89.58% | Valid F1:  51.19%\n",
            "Epoch: 20 | Epoch Time: 2m 29s\n",
            "\tTrain Loss: 0.027 | Train Acc :  98.50% | Train F1:  92.87%\n",
            "\tValid Loss: 0.553 | Valid Acc :  89.58% | Valid F1:  51.19%\n"
          ]
        }
      ],
      "source": [
        "best_valid_f1 = float('inf')\n",
        "\n",
        "for epoch in range(EPOCHS):\n",
        "    \n",
        "    start_time = time.monotonic()\n",
        "    \n",
        "    train_loss, train_acc, train_f1 = train(model, train_iterator, optimizer, criterion, scheduler, device)\n",
        "    valid_loss, valid_acc, valid_f1 = evaluate(model, valid_iterator, criterion, device)\n",
        "        \n",
        "    if valid_f1 < best_valid_f1:\n",
        "        best_valid_f1 = valid_f1\n",
        "        torch.save(model.state_dict(), 'Resnet34_model.pt')\n",
        "\n",
        "    end_time = time.monotonic()\n",
        "\n",
        "    epoch_mins, epoch_secs = epoch_time(start_time, end_time)\n",
        "    \n",
        "    print(f'Epoch: {epoch+1:02} | Epoch Time: {epoch_mins}m {epoch_secs}s')\n",
        "    print(f'\\tTrain Loss: {train_loss:.3f} | Train Acc : {train_acc*100:6.2f}% | ' \\\n",
        "          f'Train F1: {train_f1*100:6.2f}%')\n",
        "    print(f'\\tValid Loss: {valid_loss:.3f} | Valid Acc : {valid_acc*100:6.2f}% | ' \\\n",
        "          f'Valid F1: {valid_f1*100:6.2f}%')"
      ]
    },
    {
      "cell_type": "markdown",
      "id": "33cd7a1e-e15e-41b1-ad94-c1bc30497e59",
      "metadata": {
        "id": "33cd7a1e-e15e-41b1-ad94-c1bc30497e59"
      },
      "source": [
        "From the above observation, ResNet18 gave better results in my case as compared to ResNet34. In the case of ResNet34 better result was achieved at epoch 14 so, I assume that increasing the number of epochs might not help to get a better solution but maybe I was not accurate enough to assign the learning rate in this case. Compared to the previous model, I tried several learning rates due to not having better performance. Thus, I assume that one of my flaws is selecting the learning rate. \n",
        "\n",
        "I believe that the I wasn't able to achieve a better result for validation dataset because of not well distributed dataset, the dataset seems to be quite unbalance and on top of that I selected only 10% as validation dataset whereas rest of them were my training set. Ofcourse this might have result to slight overfitting of data but when I increase my validation set ratio, I encounter issue in finding the best learning rate. So with this tradeoff I decided to keep less ratio for validation dataset where as more for training.\n",
        "\n",
        "------------------------Thank you----------------"
      ]
    },
    {
      "cell_type": "code",
      "execution_count": null,
      "id": "fdb0affc-3147-4680-8526-7c56928c3d11",
      "metadata": {
        "id": "fdb0affc-3147-4680-8526-7c56928c3d11"
      },
      "outputs": [],
      "source": [
        ""
      ]
    }
  ],
  "metadata": {
    "kernelspec": {
      "display_name": "Python",
      "language": "python",
      "name": "python3"
    },
    "language_info": {
      "codemirror_mode": {
        "name": "ipython",
        "version": 3
      },
      "file_extension": ".py",
      "mimetype": "text/x-python",
      "name": "python",
      "nbconvert_exporter": "python",
      "pygments_lexer": "ipython3",
      "version": "3.8.10"
    },
    "colab": {
      "name": "DL_sharma.ipynb",
      "provenance": [],
      "include_colab_link": true
    }
  },
  "nbformat": 4,
  "nbformat_minor": 5
}